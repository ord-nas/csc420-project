{
 "cells": [
  {
   "cell_type": "code",
   "execution_count": 1,
   "metadata": {
    "collapsed": true
   },
   "outputs": [],
   "source": [
    "%matplotlib inline"
   ]
  },
  {
   "cell_type": "code",
   "execution_count": 45,
   "metadata": {
    "collapsed": true
   },
   "outputs": [],
   "source": [
    "import numpy as np\n",
    "import matplotlib\n",
    "import matplotlib.pyplot as plt\n",
    "import os"
   ]
  },
  {
   "cell_type": "code",
   "execution_count": 3,
   "metadata": {
    "collapsed": false
   },
   "outputs": [],
   "source": [
    "import classifier_utils as utils"
   ]
  },
  {
   "cell_type": "code",
   "execution_count": 4,
   "metadata": {
    "collapsed": true
   },
   "outputs": [],
   "source": [
    "import cv2"
   ]
  },
  {
   "cell_type": "code",
   "execution_count": 5,
   "metadata": {
    "collapsed": false
   },
   "outputs": [
    {
     "data": {
      "text/plain": [
       "{'divide': 'warn', 'invalid': 'warn', 'over': 'warn', 'under': 'ignore'}"
      ]
     },
     "execution_count": 5,
     "metadata": {},
     "output_type": "execute_result"
    }
   ],
   "source": [
    "np.seterr(divide='ignore')"
   ]
  },
  {
   "cell_type": "code",
   "execution_count": 34,
   "metadata": {
    "collapsed": false
   },
   "outputs": [
    {
     "data": {
      "text/plain": [
       "<module 'svm' from 'svm.py'>"
      ]
     },
     "execution_count": 34,
     "metadata": {},
     "output_type": "execute_result"
    }
   ],
   "source": [
    "import svm\n",
    "reload(svm)"
   ]
  },
  {
   "cell_type": "markdown",
   "metadata": {},
   "source": [
    "# Import SVM Implementation"
   ]
  },
  {
   "cell_type": "code",
   "execution_count": 35,
   "metadata": {
    "collapsed": false
   },
   "outputs": [],
   "source": [
    "# TODO: shouldn't polute the namespace like this, svm is a pretty short prefix!\n",
    "from svm import get_gradient\n",
    "from svm import get_activations\n",
    "from svm import get_cost\n",
    "from svm import get_cost_and_gradient\n",
    "from svm import training_step\n",
    "from svm import get_multiclass_predictions\n",
    "from svm import train_loop\n",
    "from svm import get_np_weighted_f1\n",
    "from svm import status_report\n",
    "from svm import multiclass_train_loop\n",
    "\n",
    "# Global variables\n",
    "from svm import loss\n",
    "from svm import val_loss\n",
    "from svm import test_loss\n",
    "from svm import params\n",
    "from svm import val_accuracy\n",
    "from svm import test_accuracy\n",
    "from svm import val_f1\n",
    "from svm import test_f1"
   ]
  },
  {
   "cell_type": "markdown",
   "metadata": {},
   "source": [
    "# Simple Dataset SVM Example"
   ]
  },
  {
   "cell_type": "code",
   "execution_count": 7,
   "metadata": {
    "collapsed": true
   },
   "outputs": [],
   "source": [
    "data = np.array([[-4, 10], # class 0\n",
    "                 [1, 10],\n",
    "                 [-6, 8],\n",
    "                 [-3, 8],\n",
    "                 [3, 8],\n",
    "                 [-1, 7],\n",
    "                 [-4, 5],\n",
    "                 [0, 5],\n",
    "                 [-6, 3],\n",
    "                 [-2, 2],\n",
    "                 [-6, 1],\n",
    "                 [-5, -1],\n",
    "                 [-7, -2],\n",
    "                 [-6, -4],\n",
    "                 \n",
    "                 [-1, -2], # class 1\n",
    "                 [-4, -5],\n",
    "                 [-1, -5],\n",
    "                 [1, -5],\n",
    "                 [-6, -7],\n",
    "                 [-2, -7],\n",
    "                 [1, -7],\n",
    "                 [3, -7],\n",
    "                 [-4, -8],\n",
    "                 [1, -9],\n",
    "                 [5, -9],\n",
    "                 [-7, -10],\n",
    "                 [-4, -10],\n",
    "                 [-2, -10],\n",
    "                 \n",
    "                 [7, 10], # class 2\n",
    "                 [6, 7],\n",
    "                 [7, 6],\n",
    "                 [3, 5],\n",
    "                 [5, 4],\n",
    "                 [7, 3],\n",
    "                 [2, 2],\n",
    "                 [5, 2],\n",
    "                 [5, 0],\n",
    "                 [2, -1],\n",
    "                 [7, -1],\n",
    "                 [5, -2],\n",
    "                 [5, -4],\n",
    "                 [7, -6]])         \n",
    "labels = np.array([[1, 0, 0]]*14 + [[0, 1, 0]]*14 + [[0, 0, 1]]*14)"
   ]
  },
  {
   "cell_type": "code",
   "execution_count": 8,
   "metadata": {
    "collapsed": false
   },
   "outputs": [
    {
     "data": {
      "text/plain": [
       "<matplotlib.collections.PathCollection at 0x7fa4e9ab0dd0>"
      ]
     },
     "execution_count": 8,
     "metadata": {},
     "output_type": "execute_result"
    },
    {
     "data": {
      "image/png": "[encoded data removed]",
      "text/plain": [
       "<matplotlib.figure.Figure at 0x7fa4ebb0b0d0>"
      ]
     },
     "metadata": {},
     "output_type": "display_data"
    }
   ],
   "source": [
    "# Plot dataset\n",
    "plt.scatter(data[:14,0], data[:14,1], c='r')\n",
    "plt.scatter(data[14:28,0], data[14:28,1], c='g')\n",
    "plt.scatter(data[28:,0], data[28:,1], c='b')"
   ]
  },
  {
   "cell_type": "code",
   "execution_count": 9,
   "metadata": {
    "collapsed": false,
    "scrolled": true
   },
   "outputs": [
    {
     "name": "stdout",
     "output_type": "stream",
     "text": [
      "Epoch FINAL, step FINAL:\n",
      "\ttrain loss [1.0913469653460335, 2.5954427415520955, 2.5829900778049462],\n",
      "\tvalidation loss [1.0913469653460335, 2.5954427415520955, 2.5829900778049462],\n",
      "\ttest loss [1.0913469653460335, 2.5954427415520955, 2.5829900778049462],\n",
      "\tper-category test accuracy [ 1.          0.90476191  0.90476191],\n",
      "\toverall validation accuracy 1.000000,\n",
      "\toverall test accuracy 1.000000,\n",
      "\tvalidation f1 1.000000,\n",
      "\ttest f1 1.000000\n",
      "[[-0.55644254 -0.0645514   0.39326842]\n",
      " [ 0.4173721  -0.29224589  0.06284798]\n",
      " [-0.72548389 -0.8712765  -0.83905256]]\n"
     ]
    }
   ],
   "source": [
    "# Run SVM\n",
    "C = 10\n",
    "learning_rate = 0.003\n",
    "batch_size = 2800 # Just some really big number to mean \"the entire dataset in one batch\"\n",
    "epochs = 1000\n",
    "ws = multiclass_train_loop(data, labels, data, labels, data, labels, C, learning_rate, batch_size, epochs, quiet=True)\n",
    "print ws"
   ]
  },
  {
   "cell_type": "code",
   "execution_count": 10,
   "metadata": {
    "collapsed": false
   },
   "outputs": [
    {
     "data": {
      "text/plain": [
       "[<matplotlib.lines.Line2D at 0x7fa4e9870dd0>]"
      ]
     },
     "execution_count": 10,
     "metadata": {},
     "output_type": "execute_result"
    },
    {
     "data": {
      "image/png": "[encoded data removed]",
      "text/plain": [
       "<matplotlib.figure.Figure at 0x7fa4e98de750>"
      ]
     },
     "metadata": {},
     "output_type": "display_data"
    }
   ],
   "source": [
    "# Visualize results\n",
    "# Dots are correctly classifier, crosses are incorrectly classifier\n",
    "# Coloured lines are decision boundaries for each classifier\n",
    "(predictions, _) = get_multiclass_predictions(data, ws)\n",
    "actual = np.argmax(labels, axis=1)\n",
    "correct = np.equal(predictions, actual)\n",
    "\n",
    "mask = np.logical_and(correct, np.equal(actual, 0))\n",
    "plt.scatter(data[mask, 0], data[mask,1], c='r')\n",
    "mask = np.logical_and(np.logical_not(correct), np.equal(actual, 0))\n",
    "plt.scatter(data[mask, 0], data[mask,1], c='r', marker='+')\n",
    "\n",
    "mask = np.logical_and(correct, np.equal(actual, 1))\n",
    "plt.scatter(data[mask, 0], data[mask,1], c='g')\n",
    "mask = np.logical_and(np.logical_not(correct), np.equal(actual, 1))\n",
    "plt.scatter(data[mask, 0], data[mask,1], c='g', marker='+')\n",
    "\n",
    "mask = np.logical_and(correct, np.equal(actual, 2))\n",
    "plt.scatter(data[mask, 0], data[mask,1], c='b')\n",
    "mask = np.logical_and(np.logical_not(correct), np.equal(actual, 2))\n",
    "plt.scatter(data[mask, 0], data[mask,1], c='b', marker='+')\n",
    "\n",
    "plt.axis((-8, 8, -15, 15))\n",
    "\n",
    "a, b, c = ws[:, 0]\n",
    "x = np.linspace(-8, 8)\n",
    "y = -a/b * x - c/b\n",
    "plt.plot(x, y, c='r')\n",
    "\n",
    "a, b, c = ws[:, 1]\n",
    "x = np.linspace(-8, 8)\n",
    "y = -a/b * x - c/b\n",
    "plt.plot(x, y, c='g')\n",
    "\n",
    "a, b, c = ws[:, 2]\n",
    "x = np.linspace(-8, 8)\n",
    "y = -a/b * x - c/b\n",
    "plt.plot(x, y, c='b')"
   ]
  },
  {
   "cell_type": "markdown",
   "metadata": {},
   "source": [
    "# Get Dataset"
   ]
  },
  {
   "cell_type": "code",
   "execution_count": 11,
   "metadata": {
    "collapsed": false
   },
   "outputs": [
    {
     "name": "stdout",
     "output_type": "stream",
     "text": [
      "Dropped 2082 patches because too close to image border\n"
     ]
    }
   ],
   "source": [
    "# To save memory, delete old dataset before creating new one\n",
    "try:\n",
    "    del test, train, validation # if they exist\n",
    "except:\n",
    "    pass\n",
    "\n",
    "# Dataset\n",
    "categories = [\n",
    "    'epithelial',\n",
    "    'fibroblast',\n",
    "    'inflammatory',\n",
    "    'others',\n",
    "]\n",
    "train, test = utils.get_augmented_dataset(categories)\n",
    "\n",
    "# Carve out a validation set from our test set\n",
    "# Split it 50/50\n",
    "validation = {}\n",
    "for k in list(test.iterkeys()):\n",
    "    values = test[k]\n",
    "    N = len(values)\n",
    "    new_N = N/2\n",
    "    test[k], validation[k] = np.split(values, [new_N])"
   ]
  },
  {
   "cell_type": "code",
   "execution_count": 12,
   "metadata": {
    "collapsed": false
   },
   "outputs": [
    {
     "data": {
      "text/plain": [
       "<matplotlib.image.AxesImage at 0x7fa4e9768d50>"
      ]
     },
     "execution_count": 12,
     "metadata": {},
     "output_type": "execute_result"
    },
    {
     "data": {
      "image/png": "[encoded data removed]",
      "text/plain": [
       "<matplotlib.figure.Figure at 0x7fa4ebb68a50>"
      ]
     },
     "metadata": {},
     "output_type": "display_data"
    }
   ],
   "source": [
    "plt.imshow(train['patches'][0])"
   ]
  },
  {
   "cell_type": "markdown",
   "metadata": {},
   "source": [
    "# Get HOG Features"
   ]
  },
  {
   "cell_type": "code",
   "execution_count": 26,
   "metadata": {
    "collapsed": true
   },
   "outputs": [],
   "source": [
    "def get_hog_features(hog, patches):\n",
    "    N = patches.shape[0]\n",
    "    descriptor_size = hog.getDescriptorSize()\n",
    "    results = np.zeros((N, descriptor_size))\n",
    "    for (i, patch) in enumerate(patches):\n",
    "        uint_patch = (patch * 255).astype('uint8')\n",
    "        resized_patch = cv2.resize(uint_patch, winSize, interpolation=cv2.INTER_LINEAR)\n",
    "        feature_vector = hog.compute(resized_patch)[:, 0]\n",
    "        results[i] = feature_vector\n",
    "    return results\n",
    "\n",
    "def get_rgb_hog_features(hog, patches):\n",
    "    N = patches.shape[0]\n",
    "    descriptor_size = hog.getDescriptorSize()\n",
    "    results = np.zeros((N, descriptor_size*3))\n",
    "    for (i, patch) in enumerate(patches):\n",
    "        uint_patch = (patch * 255).astype('uint8')\n",
    "        resized_patch = cv2.resize(uint_patch, winSize, interpolation=cv2.INTER_LINEAR)\n",
    "        b = resized_patch[:,:,0]\n",
    "        g = resized_patch[:,:,1]\n",
    "        r = resized_patch[:,:,2]\n",
    "        feature_vector = np.concatenate([hog.compute(r)[:, 0],\n",
    "                                         hog.compute(g)[:, 0],\n",
    "                                         hog.compute(b)[:, 0]],\n",
    "                                        axis=0)\n",
    "        results[i] = feature_vector\n",
    "    return results"
   ]
  },
  {
   "cell_type": "code",
   "execution_count": 14,
   "metadata": {
    "collapsed": true
   },
   "outputs": [],
   "source": [
    "# Compute HOG descriptors for each test/train example\n",
    "\n",
    "# Specify HOG parameters\n",
    "winSize = (32, 32)\n",
    "blockSize = (16, 16)\n",
    "blockStride = (8, 8)\n",
    "cellSize = (8, 8)\n",
    "nbins = 9\n",
    "hog = cv2.HOGDescriptor(winSize, blockSize, blockStride, cellSize, nbins)\n",
    "\n",
    "# Get training descriptors\n",
    "train['hog_features'] = get_hog_features(hog, train['patches'])\n",
    "\n",
    "# Get validation descriptors\n",
    "validation['hog_features'] = get_hog_features(hog, validation['patches'])\n",
    "\n",
    "# Get test descriptors\n",
    "test['hog_features'] = get_hog_features(hog, test['patches'])"
   ]
  },
  {
   "cell_type": "code",
   "execution_count": 31,
   "metadata": {
    "collapsed": true
   },
   "outputs": [],
   "source": [
    "# Compute RGB HOG features\n",
    "\n",
    "# Get training descriptors\n",
    "train['rgb_hog_features'] = get_rgb_hog_features(hog, train['patches'])\n",
    "\n",
    "# Get validation descriptors\n",
    "validation['rgb_hog_features'] = get_rgb_hog_features(hog, validation['patches'])\n",
    "\n",
    "# Get test descriptors\n",
    "test['rgb_hog_features'] = get_rgb_hog_features(hog, test['patches'])"
   ]
  },
  {
   "cell_type": "markdown",
   "metadata": {},
   "source": [
    "# Load Autoencoder Features"
   ]
  },
  {
   "cell_type": "code",
   "execution_count": 12,
   "metadata": {
    "collapsed": true
   },
   "outputs": [],
   "source": [
    "train['autoencodings'] = np.load(\"train_autoencodings.npy\")\n",
    "test_encodings = np.load(\"test_autoencodings.npy\")\n",
    "\n",
    "# Split test encodings into validation and test\n",
    "new_N = test['patches'].shape[0]\n",
    "test['autoencodings'], validation['autoencodings'] = np.split(test_encodings, [new_N])"
   ]
  },
  {
   "cell_type": "code",
   "execution_count": 13,
   "metadata": {
    "collapsed": false
   },
   "outputs": [
    {
     "name": "stdout",
     "output_type": "stream",
     "text": [
      "train hog_features (60000, 324)\n",
      "train hsv_factors (60000, 3)\n",
      "train deltas (60000, 2)\n",
      "train patches (60000, 27, 27, 3)\n",
      "train rots (60000,)\n",
      "train labels (60000, 4)\n",
      "train flips (60000,)\n",
      "train centres (60000, 2)\n",
      "train autoencodings (60000, 128)\n",
      "train img_ids (60000,)\n",
      "validation hog_features (2037, 324)\n",
      "validation patches (2037, 27, 27, 3)\n",
      "validation labels (2037, 4)\n",
      "validation centres (2037, 2)\n",
      "validation autoencodings (2037, 128)\n",
      "validation img_ids (2037,)\n",
      "test hog_features (2036, 324)\n",
      "test patches (2036, 27, 27, 3)\n",
      "test labels (2036, 4)\n",
      "test centres (2036, 2)\n",
      "test autoencodings (2036, 128)\n",
      "test img_ids (2036,)\n"
     ]
    }
   ],
   "source": [
    "for (k, v) in train.iteritems():\n",
    "    print \"train\", k, v.shape\n",
    "for (k, v) in validation.iteritems():\n",
    "    print \"validation\", k, v.shape\n",
    "for (k, v) in test.iteritems():\n",
    "    print \"test\", k, v.shape"
   ]
  },
  {
   "cell_type": "markdown",
   "metadata": {},
   "source": [
    "# Functions for Model Selection"
   ]
  },
  {
   "cell_type": "code",
   "execution_count": 43,
   "metadata": {
    "collapsed": true
   },
   "outputs": [],
   "source": [
    "def multiclass_train_loop(x, y, val_x, val_y, test_x, test_y, C, learning_rate, batch_size, epochs,\n",
    "                          quiet=False, init_ws=None):\n",
    "    # Make status variables global so that we can kill the training loop at any\n",
    "    # time if it's taking too long, and as long as we keep the shell alive, we\n",
    "    # will be able to inspect our current progress & results.\n",
    "    global loss, val_loss, test_loss, params # should be accessed as variable[timestep][category]\n",
    "    loss = []\n",
    "    val_loss = []\n",
    "    test_loss = []\n",
    "    params = []\n",
    "    \n",
    "    global val_accuracy, test_accuracy, val_f1, test_f1 # should be accesses as variable[timestep]\n",
    "    val_accuracy = []\n",
    "    test_accuracy = []\n",
    "    val_f1 = []\n",
    "    test_f1 = []\n",
    "    \n",
    "    np.random.seed(31415) # repeatability\n",
    "\n",
    "    # Sanity-check the input sizes\n",
    "    L = y.shape[1]\n",
    "    (M, N) = x.shape\n",
    "    assert y.shape == (M, L)\n",
    "    (M_val, N_val) = val_x.shape\n",
    "    assert N_val == N\n",
    "    assert val_y.shape == (M_val, L)\n",
    "    (M_test, N_test) = test_x.shape\n",
    "    assert N_test == N\n",
    "    assert test_y.shape == (M_test, L)\n",
    "    \n",
    "    # Convert from one-hot labels to per-class -1/+1 labels\n",
    "    y = y * 2 - 1\n",
    "    val_y = val_y * 2 - 1\n",
    "    test_y = test_y * 2 - 1\n",
    "\n",
    "    # Intialize weights for each class\n",
    "    ws = [np.random.normal(size=(N+1, 1)) for _ in xrange(L)] if init_ws is None \\\n",
    "         else np.hsplit(init_ws, init_ws.shape[1])\n",
    "    # Add 1s to x for bias term\n",
    "    x = np.append(x, np.ones((M, 1)), axis=1)\n",
    "    test_x = np.append(test_x, np.ones((M_test, 1)), axis=1)\n",
    "    val_x = np.append(val_x, np.ones((M_val, 1)), axis=1)\n",
    "\n",
    "    # Run training\n",
    "    for e in xrange(epochs):\n",
    "        for i in xrange(0, M, batch_size):\n",
    "            for label in xrange(L):\n",
    "                w = ws[label]\n",
    "                (cost, new_w) = training_step(\n",
    "                    x[i:i+batch_size], y[i:i+batch_size, label:label+1], w, C, learning_rate)\n",
    "                ws[label] = new_w\n",
    "            step = i / batch_size\n",
    "            if step % 50 == 0:\n",
    "                status_dict = status_report(\n",
    "                    e, step, x[i:i+batch_size], y[i:i+batch_size],\n",
    "                    val_x, val_y, test_x, test_y, ws, C, quiet=quiet)\n",
    "                loss.append(status_dict['train_loss'])\n",
    "                val_loss.append(status_dict['val_loss'])\n",
    "                test_loss.append(status_dict['test_loss'])\n",
    "                val_accuracy.append(status_dict['val_accuracy'])\n",
    "                test_accuracy.append(status_dict['test_accuracy'])\n",
    "                val_f1.append(status_dict['val_f1'])\n",
    "                test_f1.append(status_dict['test_f1'])\n",
    "                params.append(list(ws))\n",
    "    \n",
    "    status_report(\"FINAL\", \"FINAL\", x[0:batch_size], y[0:batch_size],\n",
    "                  val_x, val_y, test_x, test_y, ws, C, quiet=False)\n",
    "\n",
    "    # Return per-parameter weights\n",
    "    return np.hstack(ws)"
   ]
  },
  {
   "cell_type": "code",
   "execution_count": 28,
   "metadata": {
    "collapsed": false
   },
   "outputs": [],
   "source": [
    "def output_global_status(C, prefix):\n",
    "    # Helper function to access per-category time series\n",
    "    def g(series, category):\n",
    "        return [x[category] for x in series]\n",
    "    \n",
    "    def save_plot(suffix):\n",
    "        full_dir = os.path.join(prefix, suffix)\n",
    "        full_name = os.path.join(full_dir, \"C=%010.4f.png\" % C)\n",
    "        if not os.path.exists(full_dir):\n",
    "            os.makedirs(full_dir)\n",
    "        plt.savefig(full_name)\n",
    "        plt.clf()\n",
    "\n",
    "    best_by_f1 = np.argmax(val_f1)\n",
    "    print \"Best according to f1: index %d, val f1 %f, test f1 %f\" % (\n",
    "        best_by_f1, val_f1[best_by_f1], test_f1[best_by_f1])\n",
    "    best_by_acc = np.argmax(val_accuracy)\n",
    "    print \"Best according to accuracy: index %d, val acc %f, test acc %f\" % (\n",
    "        best_by_acc, val_accuracy[best_by_acc], test_accuracy[best_by_acc])\n",
    "\n",
    "    x = range(len(g(loss, 0)))\n",
    "    plt.plot(x, g(loss, 0), 'r')\n",
    "    plt.plot(x, g(loss, 1), 'g')\n",
    "    plt.plot(x, g(loss, 2), 'b')\n",
    "    plt.plot(x, g(loss, 3), 'y')\n",
    "    plt.title(\"C = %f, train loss\" % C)\n",
    "    save_plot(\"train_loss\")\n",
    "    x = range(len(g(test_loss, 0)))\n",
    "    plt.plot(x, g(test_loss, 0), 'r')\n",
    "    plt.plot(x, g(test_loss, 1), 'g')\n",
    "    plt.plot(x, g(test_loss, 2), 'b')\n",
    "    plt.plot(x, g(test_loss, 3), 'y')\n",
    "    plt.title(\"C = %f, test loss\" % C)\n",
    "    save_plot(\"test_loss\")\n",
    "    x = range(len(g(val_loss, 0)))\n",
    "    plt.plot(x, g(val_loss, 0), 'r')\n",
    "    plt.plot(x, g(val_loss, 1), 'g')\n",
    "    plt.plot(x, g(val_loss, 2), 'b')\n",
    "    plt.plot(x, g(val_loss, 3), 'y')\n",
    "    plt.title(\"C = %f, val loss\" % C)\n",
    "    save_plot(\"val_loss\")\n",
    "\n",
    "    plt.plot(x, val_accuracy)\n",
    "    plt.title(\"C = %f, overall val accuracy\" % C)\n",
    "    save_plot(\"overall_val_accuracy\")\n",
    "\n",
    "    plt.plot(x, test_accuracy)\n",
    "    plt.title(\"C = %f, overall test accuracy\" % C)\n",
    "    save_plot(\"overall_test_accuracy\")\n",
    "\n",
    "    plt.plot(x, val_f1)\n",
    "    plt.title(\"C = %f, overall val f1\" % C)\n",
    "    save_plot(\"overall_val_f1\")\n",
    "\n",
    "    plt.plot(x, test_f1)\n",
    "    plt.title(\"C = %f, overall test f1\" % C)\n",
    "    save_plot(\"overall_test_f1\")\n",
    "    \n",
    "    return (best_by_f1, best_by_acc)"
   ]
  },
  {
   "cell_type": "code",
   "execution_count": 29,
   "metadata": {
    "collapsed": true
   },
   "outputs": [],
   "source": [
    "def svm_C_search(train, validation, test, feature_name, learning_rate, batch_size, epochs, Cs, prefix):\n",
    "    results = {\n",
    "        'Cs' : [],\n",
    "        'best_validation_f1_index': [],\n",
    "        'best_validation_accuracy_index': [],\n",
    "        'best_ws_by_validation_f1': [],\n",
    "        'best_ws_by_validation_accuracy': [],\n",
    "        'best_validation_f1': [],\n",
    "        'best_validation_accuracy': [],\n",
    "        'test_f1_at_best': [],\n",
    "        'test_accuracy_at_best': [],\n",
    "    }\n",
    "\n",
    "    # Run SVM with various values of C\n",
    "    for C in Cs:\n",
    "        print \"C=%f\" % C\n",
    "        multiclass_train_loop(train[feature_name], train['labels'],\n",
    "                              validation[feature_name], validation['labels'],\n",
    "                              test[feature_name], test['labels'],\n",
    "                              C, learning_rate, batch_size, epochs,\n",
    "                              quiet=True)\n",
    "        (f1_index, accuracy_index) = output_global_status(C, prefix)\n",
    "        results['Cs'].append(C)\n",
    "        results['best_validation_f1_index'].append(f1_index)\n",
    "        results['best_validation_accuracy_index'].append(accuracy_index)\n",
    "        results['best_ws_by_validation_f1'].append(params[f1_index])\n",
    "        results['best_ws_by_validation_accuracy'].append(params[accuracy_index])\n",
    "        results['best_validation_f1'].append(val_f1[f1_index])\n",
    "        results['best_validation_accuracy'].append(val_accuracy[accuracy_index])\n",
    "        results['test_f1_at_best'].append(test_f1[f1_index])\n",
    "        results['test_accuracy_at_best'].append(test_accuracy[accuracy_index])\n",
    "        print \"\"\n",
    "        print \"\"\n",
    "        \n",
    "    # Print a summary message and return the results\n",
    "    best_f1_C_index = np.argmax(results['best_validation_f1'])\n",
    "    best_accuracy_C_index = np.argmax(results['best_validation_accuracy'])\n",
    "    print \"OVERALL\"\n",
    "    print \"Best f1 is at index %d, best accuracy is at index %d\" % (best_f1_C_index, best_accuracy_C_index)\n",
    "    \n",
    "    return results"
   ]
  },
  {
   "cell_type": "markdown",
   "metadata": {},
   "source": [
    "# Apply SVM to RGB HOG Features"
   ]
  },
  {
   "cell_type": "code",
   "execution_count": 47,
   "metadata": {
    "collapsed": false
   },
   "outputs": [
    {
     "name": "stdout",
     "output_type": "stream",
     "text": [
      "C=0.031250\n",
      "Epoch FINAL, step FINAL:\n",
      "\ttrain loss [0.028351821340721405, 0.029066621289980027, 0.028738178436480341, 0.027862281165030565],\n",
      "\tvalidation loss [0.030481215457151146, 0.028553382748969531, 0.030105058840247802, 0.024728485707270202],\n",
      "\ttest loss [0.03069886521205771, 0.028731293048337263, 0.029427031978001568, 0.025048870237512483],\n",
      "\tper-category test accuracy [ 0.65324163  0.73330057  0.70825148  0.90520626],\n",
      "\toverall validation accuracy 0.338243,\n",
      "\toverall test accuracy 0.348232,\n",
      "\tvalidation f1 0.000000,\n",
      "\ttest f1 0.000000\n",
      "Best according to f1: index 422, val f1 0.244884, test f1 0.000000\n",
      "Best according to accuracy: index 421, val acc 0.364752, test acc 0.366405\n",
      "\n",
      "\n",
      "C=0.062500\n",
      "Epoch FINAL, step FINAL:\n",
      "\ttrain loss [0.050884567943061385, 0.053746802018804309, 0.052428902737273339, 0.048929111650184598],\n",
      "\tvalidation loss [0.059404456876692421, 0.051692794516567712, 0.057887735722784162, 0.036405712209938851],\n",
      "\ttest loss [0.060275499929671572, 0.052405039687043825, 0.055179416599352188, 0.037686851557060086],\n",
      "\tper-category test accuracy [ 0.65324163  0.73330057  0.70825148  0.90520626],\n",
      "\toverall validation accuracy 0.339224,\n",
      "\toverall test accuracy 0.348232,\n",
      "\tvalidation f1 0.000000,\n",
      "\ttest f1 0.000000\n",
      "Best according to f1: index 328, val f1 0.285004, test f1 0.284431\n",
      "Best according to accuracy: index 356, val acc 0.364261, test acc 0.356582\n",
      "\n",
      "\n",
      "C=0.125000\n",
      "Epoch FINAL, step FINAL:\n",
      "\ttrain loss [0.083795304677385204, 0.091631010162361554, 0.088149539685179162, 0.078529019357308147],\n",
      "\tvalidation loss [0.10756175362971453, 0.086090102648152214, 0.1031488465481015, 0.044282990409921549],\n",
      "\ttest loss [0.11000674822728894, 0.087986714983029693, 0.095683318396853817, 0.047777546089775733],\n",
      "\tper-category test accuracy [ 0.65324163  0.73330057  0.70825148  0.90520626],\n",
      "\toverall validation accuracy 0.365734,\n",
      "\toverall test accuracy 0.338900,\n",
      "\tvalidation f1 0.283000,\n",
      "\ttest f1 0.259918\n",
      "Best according to f1: index 437, val f1 0.291684, test f1 0.294240\n",
      "Best according to accuracy: index 593, val acc 0.373589, test acc 0.345776\n",
      "\n",
      "\n",
      "C=0.250000\n",
      "Epoch FINAL, step FINAL:\n",
      "\ttrain loss [0.14647648656566742, 0.16250729390382046, 0.15545932749757577, 0.13576411020877552],\n",
      "\tvalidation loss [0.1945676735820451, 0.15135067551399967, 0.18590099686403658, 0.066537010007913164],\n",
      "\ttest loss [0.19947377370888994, 0.15512140192457138, 0.17069647038646943, 0.073554142952646978],\n",
      "\tper-category test accuracy [ 0.65324163  0.73330057  0.70825148  0.90520626],\n",
      "\toverall validation accuracy 0.369170,\n",
      "\toverall test accuracy 0.352652,\n",
      "\tvalidation f1 0.316358,\n",
      "\ttest f1 0.298506\n",
      "Best according to f1: index 517, val f1 0.317257, test f1 0.300193\n",
      "Best according to accuracy: index 587, val acc 0.389789, test acc 0.377210\n",
      "\n",
      "\n",
      "C=0.500000\n",
      "Epoch FINAL, step FINAL:\n",
      "\ttrain loss [0.27108167077899215, 0.30377020260576271, 0.28935566412937341, 0.24968041561452481],\n",
      "\tvalidation loss [0.367821171433039, 0.28134066446571709, 0.35067852402029992, 0.1104782894440699],\n",
      "\ttest loss [0.37761455418741807, 0.28889896949313842, 0.31998826612204939, 0.12454694946268566],\n",
      "\tper-category test accuracy [ 0.65324163  0.73330057  0.70825148  0.90520626],\n",
      "\toverall validation accuracy 0.401571,\n",
      "\toverall test accuracy 0.388998,\n",
      "\tvalidation f1 0.381020,\n",
      "\ttest f1 0.365086\n",
      "Best according to f1: index 576, val f1 0.378934, test f1 0.364986\n",
      "Best according to accuracy: index 569, val acc 0.414826, test acc 0.406189\n",
      "\n",
      "\n",
      "C=1.000000\n",
      "Epoch FINAL, step FINAL:\n",
      "\ttrain loss [0.51960215394396847, 0.58588011670277529, 0.55625908991998418, 0.47695021322048131],\n",
      "\tvalidation loss [0.71360245684164025, 0.54101285342638183, 0.67939157468245348, 0.19792893721338131],\n",
      "\ttest loss [0.73314525685273879, 0.55614442610235459, 0.6177398327235003, 0.2261407624187545],\n",
      "\tper-category test accuracy [ 0.65324163  0.73330057  0.70825148  0.90520626],\n",
      "\toverall validation accuracy 0.428080,\n",
      "\toverall test accuracy 0.417485,\n",
      "\tvalidation f1 0.426549,\n",
      "\ttest f1 0.414027\n",
      "Best according to f1: index 511, val f1 0.433674, test f1 0.424361\n",
      "Best according to accuracy: index 593, val acc 0.444772, test acc 0.450393\n",
      "\n",
      "\n",
      "C=2.000000\n",
      "Epoch FINAL, step FINAL:\n",
      "\ttrain loss [1.0158156804958964, 1.1497575797776138, 1.0889010048530468, 0.93090472510480238],\n",
      "\tvalidation loss [1.4035562030062232, 1.0599670449617673, 1.3353253687196818, 0.37229776300128625],\n",
      "\ttest loss [1.4425011319137833, 1.0902651688795104, 1.2117701182889187, 0.42876822624695943],\n",
      "\tper-category test accuracy [ 0.65324163  0.73330057  0.70825148  0.90520626],\n",
      "\toverall validation accuracy 0.453608,\n",
      "\toverall test accuracy 0.447937,\n",
      "\tvalidation f1 0.455901,\n",
      "\ttest f1 0.448975\n",
      "Best according to f1: index 589, val f1 0.466548, test f1 0.459230\n",
      "Best according to accuracy: index 521, val acc 0.476190, test acc 0.480845\n",
      "\n",
      "\n",
      "C=4.000000\n",
      "Epoch FINAL, step FINAL:\n",
      "\ttrain loss [2.0058798982563784, 2.2771404099391681, 2.152007835950541, 1.8376075300382466],\n",
      "\tvalidation loss [2.7800014220461602, 2.0973619606026901, 2.6436036393319555, 0.71980502729021079],\n",
      "\ttest loss [2.8572657234218339, 2.1579940838203551, 2.3966578024634773, 0.83281777988625583],\n",
      "\tper-category test accuracy [ 0.65324163  0.73330057  0.70825148  0.90520626],\n",
      "\toverall validation accuracy 0.474718,\n",
      "\toverall test accuracy 0.472495,\n",
      "\tvalidation f1 0.473318,\n",
      "\ttest f1 0.469240\n",
      "Best according to f1: index 541, val f1 0.478462, test f1 0.474640\n",
      "Best according to accuracy: index 593, val acc 0.495827, test acc 0.500491\n",
      "\n",
      "\n",
      "C=8.000000\n",
      "Epoch FINAL, step FINAL:\n",
      "\ttrain loss [3.9797729859048623, 4.5305585746442878, 4.2737333219011377, 3.6468700059386676],\n",
      "\tvalidation loss [5.5279832713985604, 4.1707520775692419, 5.254277002228223, 1.4112878541361671],\n",
      "\ttest loss [5.6814093475884846, 4.2924729535024166, 4.7597335365397191, 1.6370464856376699],\n",
      "\tper-category test accuracy [ 0.65324163  0.73330057  0.70825148  0.90520626],\n",
      "\toverall validation accuracy 0.479136,\n",
      "\toverall test accuracy 0.478880,\n",
      "\tvalidation f1 0.473261,\n",
      "\ttest f1 0.469063\n",
      "Best according to f1: index 425, val f1 0.493314, test f1 0.500068\n",
      "Best according to accuracy: index 407, val acc 0.508100, test acc 0.521120\n",
      "\n",
      "\n",
      "C=16.000000\n",
      "Epoch FINAL, step FINAL:\n",
      "\ttrain loss [7.9068191001060608, 9.0355995074404341, 8.509093673816654, 7.2548479591338495],\n",
      "\tvalidation loss [11.00293376455592, 8.3172819660848027, 10.474651274706373, 2.7970042421771457],\n",
      "\ttest loss [11.30865554691227, 8.5623646846330601, 9.4771329588875357, 3.2472343003605881],\n",
      "\tper-category test accuracy [ 0.65324163  0.73330057  0.70825148  0.90520626],\n",
      "\toverall validation accuracy 0.474718,\n",
      "\toverall test accuracy 0.477407,\n",
      "\tvalidation f1 0.483132,\n",
      "\ttest f1 0.482214\n",
      "Best according to f1: index 536, val f1 0.518183, test f1 0.520261\n",
      "Best according to accuracy: index 521, val acc 0.532155, test acc 0.536346\n",
      "\n",
      "\n",
      "C=32.000000\n",
      "Epoch FINAL, step FINAL:\n",
      "\ttrain loss [15.759348326525913, 18.075665522040829, 17.040288175514032, 14.437283732530053],\n",
      "\tvalidation loss [21.859803358141278, 16.629908054828697, 21.030631478720206, 5.5146086264097152],\n",
      "\ttest loss [22.460961141078652, 17.124333645364388, 18.990068578118592, 6.4122295833189931],\n",
      "\tper-category test accuracy [ 0.65324163  0.73330057  0.70825148  0.90520626],\n",
      "\toverall validation accuracy 0.457536,\n",
      "\toverall test accuracy 0.470039,\n",
      "\tvalidation f1 0.429134,\n",
      "\ttest f1 0.442496\n",
      "Best according to f1: index 469, val f1 0.536195, test f1 0.530033\n",
      "Best according to accuracy: index 569, val acc 0.562101, test acc 0.562868\n",
      "\n",
      "\n",
      "C=64.000000\n",
      "Epoch FINAL, step FINAL:\n",
      "\ttrain loss [31.963932780100087, 36.680051063525291, 34.447220647974412, 29.523550923273501],\n",
      "\tvalidation loss [44.908842775086868, 33.739367391164912, 42.422720095851993, 12.168975864024366],\n",
      "\ttest loss [46.115473236184798, 34.718110418253936, 38.270786493555121, 13.941834710297975],\n",
      "\tper-category test accuracy [ 0.65324163  0.73330057  0.70825148  0.90520626],\n",
      "\toverall validation accuracy 0.249386,\n",
      "\toverall test accuracy 0.251965,\n",
      "\tvalidation f1 0.158504,\n",
      "\ttest f1 0.000000\n",
      "Best according to f1: index 409, val f1 0.523878, test f1 0.524186\n",
      "Best according to accuracy: index 272, val acc 0.565047, test acc 0.555010\n",
      "\n",
      "\n",
      "C=128.000000\n",
      "Epoch FINAL, step FINAL:\n",
      "\ttrain loss [65.397831624708601, 74.959172030895914, 76.552241013378264, 62.295050912458542],\n",
      "\tvalidation loss [86.887702286076902, 68.747205746088937, 93.833772154559156, 22.823418240892629],\n",
      "\ttest loss [88.954184992969118, 70.670425565858466, 84.484529965532076, 26.724936853889783],\n",
      "\tper-category test accuracy [ 0.65324163  0.73330057  0.70825148  0.90520626],\n",
      "\toverall validation accuracy 0.421208,\n",
      "\toverall test accuracy 0.428782,\n",
      "\tvalidation f1 0.000000,\n",
      "\ttest f1 0.000000\n",
      "Best according to f1: index 335, val f1 0.518995, test f1 0.521236\n",
      "Best according to accuracy: index 523, val acc 0.562592, test acc 0.561395\n",
      "\n",
      "\n",
      "C=256.000000\n",
      "Epoch FINAL, step FINAL:\n",
      "\ttrain loss [140.65909509748403, 148.73372525893839, 147.70428794072492, 135.49801218697328],\n",
      "\tvalidation loss [198.11126504023139, 137.20885372131718, 177.79051828426043, 49.203932622279936],\n",
      "\ttest loss [202.82146587568684, 141.11203225551199, 159.96754584490822, 57.677640004435681],\n",
      "\tper-category test accuracy [ 0.65324163  0.73330057  0.70825148  0.90520626],\n",
      "\toverall validation accuracy 0.443299,\n",
      "\toverall test accuracy 0.435658,\n",
      "\tvalidation f1 0.405684,\n",
      "\ttest f1 0.392377\n",
      "Best according to f1: index 355, val f1 0.533529, test f1 0.000000\n",
      "Best according to accuracy: index 493, val acc 0.562101, test acc 0.563851\n",
      "\n",
      "\n",
      "C=512.000000\n",
      "Epoch FINAL, step FINAL:\n",
      "\ttrain loss [308.72807313036157, 366.96885298149948, 332.5789431539568, 320.79549726772154],\n",
      "\tvalidation loss [346.55752596734493, 337.3286163093984, 389.36996584600234, 114.91154651497301],\n",
      "\ttest loss [349.11267157233118, 343.7165877482837, 349.04489152063491, 134.72236918613956],\n",
      "\tper-category test accuracy [ 0.6625737   0.74950886  0.70923382  0.90520626],\n",
      "\toverall validation accuracy 0.438390,\n",
      "\toverall test accuracy 0.451375,\n",
      "\tvalidation f1 0.369102,\n",
      "\ttest f1 0.000000\n",
      "Best according to f1: index 553, val f1 0.535601, test f1 0.527948\n",
      "Best according to accuracy: index 560, val acc 0.565538, test acc 0.564342\n",
      "\n",
      "\n",
      "C=1024.000000\n",
      "Epoch FINAL, step FINAL:\n",
      "\ttrain loss [754.21956394137226, 807.00758678178363, 1244.2340119207367, 758.27117241494796],\n",
      "\tvalidation loss [1069.2741643165784, 743.73022215214633, 1460.3861719601878, 269.59928995107077],\n",
      "\ttest loss [1088.3511666905708, 766.10615467428352, 1307.5771431036546, 315.78607645618388],\n",
      "\tper-category test accuracy [ 0.65324163  0.73673868  0.70825148  0.90471512],\n",
      "\toverall validation accuracy 0.385862,\n",
      "\toverall test accuracy 0.407662,\n",
      "\tvalidation f1 0.354592,\n",
      "\ttest f1 0.376383\n",
      "Best according to f1: index 367, val f1 0.537469, test f1 0.524552\n",
      "Best according to accuracy: index 563, val acc 0.565538, test acc 0.569745\n",
      "\n",
      "\n",
      "C=2048.000000\n",
      "Epoch FINAL, step FINAL:\n",
      "\ttrain loss [1819.929552098253, 2340.8862172609079, 1397.1773235800586, 1323.5547608051754],\n",
      "\tvalidation loss [1461.5340520617408, 2167.7507294087723, 1310.4549263007339, 516.61227937359718],\n",
      "\ttest loss [1415.190761749318, 2231.6113669077545, 1170.0723875501278, 596.67323130749423],\n",
      "\tper-category test accuracy [ 0.7008841   0.73624754  0.76719058  0.90127701],\n",
      "\toverall validation accuracy 0.479136,\n",
      "\toverall test accuracy 0.490668,\n",
      "\tvalidation f1 0.402533,\n",
      "\ttest f1 0.413824\n",
      "Best according to f1: index 475, val f1 0.536737, test f1 0.534831\n",
      "Best according to accuracy: index 400, val acc 0.554246, test acc 0.553536\n",
      "\n",
      "\n",
      "C=4096.000000\n",
      "Epoch FINAL, step FINAL:\n",
      "\ttrain loss [8314.5882485465445, 3600.4938812188357, 7969.0390559879352, 12102.835788548746],\n",
      "\tvalidation loss [6093.9560170239884, 3011.1705791342533, 8970.8876292611803, 4358.8786935397011],\n",
      "\ttest loss [5900.9638277384065, 3095.1573113276072, 7962.5126106923353, 5117.3253358468346],\n",
      "\tper-category test accuracy [ 0.55304521  0.69155204  0.7102161   0.90520626],\n",
      "\toverall validation accuracy 0.407953,\n",
      "\toverall test accuracy 0.420432,\n",
      "\tvalidation f1 0.000000,\n",
      "\ttest f1 0.000000\n",
      "Best according to f1: index 263, val f1 0.529338, test f1 0.521471\n",
      "Best according to accuracy: index 323, val acc 0.558174, test acc 0.561886\n",
      "\n",
      "\n",
      "C=8192.000000\n",
      "Epoch FINAL, step FINAL:\n",
      "\ttrain loss [58731.253758911836, 45019.188951258133, 18804.306475476234, 64704.696121950925],\n",
      "\tvalidation loss [83311.669639059241, 41572.596449447847, 16734.191439576443, 23216.41200463954],\n",
      "\ttest loss [85177.321090965866, 42804.141437793362, 16618.277190667315, 27199.306192707234],\n",
      "\tper-category test accuracy [ 0.65324163  0.73330057  0.51719058  0.90520626],\n",
      "\toverall validation accuracy 0.323515,\n",
      "\toverall test accuracy 0.291749,\n",
      "\tvalidation f1 0.000000,\n",
      "\ttest f1 0.000000\n",
      "Best according to f1: index 575, val f1 0.523104, test f1 0.532675\n",
      "Best according to accuracy: index 311, val acc 0.556701, test acc 0.558448\n",
      "\n",
      "\n",
      "C=16384.000000\n",
      "Epoch FINAL, step FINAL:\n",
      "\ttrain loss [223845.73546190182, 167823.55845238487, 59506.7797999533, 266876.5727145191],\n",
      "\tvalidation loss [318537.97177353094, 155291.41765500643, 59036.090507001107, 96123.420085773105],\n",
      "\ttest loss [325398.19116821303, 159794.09900508006, 51546.98735956374, 112906.64699182186],\n",
      "\tper-category test accuracy [ 0.65324163  0.73428291  0.73624754  0.90520626],\n",
      "\toverall validation accuracy 0.340697,\n",
      "\toverall test accuracy 0.313360,\n",
      "\tvalidation f1 0.000000,\n",
      "\ttest f1 0.000000\n",
      "Best according to f1: index 397, val f1 0.475632, test f1 0.000000\n",
      "Best according to accuracy: index 225, val acc 0.564065, test acc 0.567780\n",
      "\n",
      "\n",
      "C=32768.000000\n",
      "Epoch FINAL, step FINAL:\n",
      "\ttrain loss [849980.44251663983, 1180304.2425817221, 171292.03401085772, 308275.08268406091],\n",
      "\tvalidation loss [1206035.0904415746, 1090315.6921131301, 158369.40368419565, 103918.84443474683],\n",
      "\ttest loss [1232772.2832404831, 1120789.7074415884, 139228.62958354724, 124698.05562371167],\n",
      "\tper-category test accuracy [ 0.65324163  0.73330057  0.75049114  0.90471512],\n",
      "\toverall validation accuracy 0.322533,\n",
      "\toverall test accuracy 0.291257,\n",
      "\tvalidation f1 0.000000,\n",
      "\ttest f1 0.000000\n",
      "Best according to f1: index 578, val f1 0.496550, test f1 0.492163\n",
      "Best according to accuracy: index 229, val acc 0.563083, test acc 0.563851\n",
      "\n",
      "\n",
      "OVERALL\n",
      "Best f1 is at index 15, best accuracy is at index 14\n"
     ]
    },
    {
     "data": {
      "text/plain": [
       "<matplotlib.figure.Figure at 0x7fa4e690c410>"
      ]
     },
     "metadata": {},
     "output_type": "display_data"
    }
   ],
   "source": [
    "# Run SVM with various values of C\n",
    "learning_rate = 0.0003\n",
    "batch_size = 200\n",
    "epochs = 100\n",
    "# Recommended to try C in range 2^{-5 ... 15} from http://www.csie.ntu.edu.tw/~cjlin/papers/guide/guide.pdf\n",
    "Cs = [2.0**x for x in xrange(-5, 16)]\n",
    "hog_results = svm_C_search(\n",
    "    train, validation, test, 'rgb_hog_features', learning_rate, batch_size, epochs, Cs, 'svm_graphs/rgb_hog')"
   ]
  },
  {
   "cell_type": "code",
   "execution_count": 50,
   "metadata": {
    "collapsed": true
   },
   "outputs": [],
   "source": [
    "# Store results\n",
    "#import pickle\n",
    "#with open('rgb_hog_svn_results.p', 'wb') as f:\n",
    "#    pickle.dump(hog_results, f)\n",
    "#np.save('rgb_hog_svn_best_ws.npy', np.hstack(hog_results['best_ws_by_validation_f1'][15]))"
   ]
  },
  {
   "cell_type": "code",
   "execution_count": 51,
   "metadata": {
    "collapsed": true
   },
   "outputs": [],
   "source": [
    "# Restore results\n",
    "import pickle\n",
    "with open('rgb_hog_svn_results.p', 'rb') as f:\n",
    "    hog_results = pickle.load(f)"
   ]
  },
  {
   "cell_type": "code",
   "execution_count": 52,
   "metadata": {
    "collapsed": false
   },
   "outputs": [
    {
     "name": "stdout",
     "output_type": "stream",
     "text": [
      "0.564342\n",
      "0.524551797752\n"
     ]
    }
   ],
   "source": [
    "print hog_results['test_accuracy_at_best'][14]\n",
    "print hog_results['test_f1_at_best'][15]"
   ]
  },
  {
   "cell_type": "code",
   "execution_count": 53,
   "metadata": {
    "collapsed": false
   },
   "outputs": [
    {
     "name": "stdout",
     "output_type": "stream",
     "text": [
      "0.550098231827\n",
      "0.524551797752\n"
     ]
    }
   ],
   "source": [
    "hog_ws = np.hstack(hog_results['best_ws_by_validation_f1'][15])\n",
    "hog_predictions, _ = get_multiclass_predictions(test['rgb_hog_features'], hog_ws)\n",
    "hog_actuals = np.argmax(test['labels'], axis=1)\n",
    "print np.count_nonzero(np.equal(hog_predictions, hog_actuals)) / float(len(hog_actuals))\n",
    "print get_np_weighted_f1(hog_predictions, hog_actuals, 4)"
   ]
  },
  {
   "cell_type": "code",
   "execution_count": 54,
   "metadata": {
    "collapsed": false
   },
   "outputs": [
    {
     "data": {
      "image/png": "[encoded data removed]",
      "text/plain": [
       "<matplotlib.figure.Figure at 0x7fa4e69f50d0>"
      ]
     },
     "metadata": {},
     "output_type": "display_data"
    }
   ],
   "source": [
    "plt.plot(hog_results['Cs'], hog_results['best_validation_accuracy'])\n",
    "plt.plot(hog_results['Cs'], hog_results['test_accuracy_at_best'])\n",
    "plt.xscale('log')"
   ]
  },
  {
   "cell_type": "code",
   "execution_count": 55,
   "metadata": {
    "collapsed": false
   },
   "outputs": [
    {
     "data": {
      "image/png": "[encoded data removed]",
      "text/plain": [
       "<matplotlib.figure.Figure at 0x7fa4e95c8710>"
      ]
     },
     "metadata": {},
     "output_type": "display_data"
    }
   ],
   "source": [
    "plt.plot(hog_results['Cs'], hog_results['best_validation_f1'])\n",
    "plt.plot(hog_results['Cs'], hog_results['test_f1_at_best'])\n",
    "plt.xscale('log')"
   ]
  },
  {
   "cell_type": "markdown",
   "metadata": {},
   "source": [
    "# Apply SVM to HOG Features"
   ]
  },
  {
   "cell_type": "code",
   "execution_count": 109,
   "metadata": {
    "collapsed": false,
    "scrolled": true
   },
   "outputs": [
    {
     "name": "stdout",
     "output_type": "stream",
     "text": [
      "C=0.031250\n",
      "Epoch FINAL, step FINAL:\n",
      "\ttrain loss [0.93757431889834697, 0.94320979211973266, 0.94145912114934349, 0.93100369438266339],\n",
      "\tvalidation loss [0.96191322626324061, 0.93730258325823979, 0.95700604343464635, 0.8953521640973835],\n",
      "\ttest loss [0.96439740055347967, 0.93936292416534817, 0.94933082431062188, 0.89901808869382549],\n",
      "\tper-category test accuracy [ 0.65324163  0.73330057  0.70825148  0.90520626],\n",
      "\toverall validation accuracy 0.348552,\n",
      "\toverall test accuracy 0.356582,\n",
      "\tvalidation f1 0.000000,\n",
      "\ttest f1 0.000000\n",
      "Best according to f1: index 461, val f1 0.301271, test f1 0.000000\n",
      "Best according to accuracy: index 520, val acc 0.405498, test acc 0.391945\n",
      "\n",
      "\n",
      "C=0.062500\n",
      "Epoch FINAL, step FINAL:\n",
      "\ttrain loss [0.87697594519490507, 0.88861971406686191, 0.8847249641299425, 0.86385033132197508],\n",
      "\tvalidation loss [0.925705210129666, 0.87680324816014465, 0.91584422838252111, 0.79249785092961533],\n",
      "\ttest loss [0.93068092166525007, 0.88092038957203322, 0.90047624715512642, 0.79983486991753727],\n",
      "\tper-category test accuracy [ 0.65324163  0.73330057  0.70825148  0.90520626],\n",
      "\toverall validation accuracy 0.342170,\n",
      "\toverall test accuracy 0.352161,\n",
      "\tvalidation f1 0.000000,\n",
      "\ttest f1 0.000000\n",
      "Best according to f1: index 424, val f1 0.300856, test f1 0.000000\n",
      "Best according to accuracy: index 466, val acc 0.404516, test acc 0.390472\n",
      "\n",
      "\n",
      "C=0.125000\n",
      "Epoch FINAL, step FINAL:\n",
      "\ttrain loss [0.76145480607554872, 0.78555160354948261, 0.77706183866018141, 0.73544876557792527],\n",
      "\tvalidation loss [0.85896354554314325, 0.7619169892630473, 0.83932510378144043, 0.59269522438109412],\n",
      "\ttest loss [0.86892220927882602, 0.77014759183941717, 0.80857193515089798, 0.60737434580386451],\n",
      "\tper-category test accuracy [ 0.65324163  0.73330057  0.70825148  0.90520626],\n",
      "\toverall validation accuracy 0.340697,\n",
      "\toverall test accuracy 0.348723,\n",
      "\tvalidation f1 0.000000,\n",
      "\ttest f1 0.000000\n",
      "Best according to f1: index 398, val f1 0.308798, test f1 0.000000\n",
      "Best according to accuracy: index 418, val acc 0.402062, test acc 0.387525\n",
      "\n",
      "\n",
      "C=0.250000\n",
      "Epoch FINAL, step FINAL:\n",
      "\ttrain loss [0.56779990916302137, 0.6284755271495619, 0.60308644876204809, 0.52761924424299478],\n",
      "\tvalidation loss [0.75547032023956495, 0.58453401534286842, 0.72128535154372908, 0.25827847991101638],\n",
      "\ttest loss [0.774660783852125, 0.59972720144610459, 0.66285277535917786, 0.28593864176163375],\n",
      "\tper-category test accuracy [ 0.65324163  0.73330057  0.70825148  0.90520626],\n",
      "\toverall validation accuracy 0.377516,\n",
      "\toverall test accuracy 0.355108,\n",
      "\tvalidation f1 0.310446,\n",
      "\ttest f1 0.290583\n",
      "Best according to f1: index 396, val f1 0.322445, test f1 0.311991\n",
      "Best according to accuracy: index 570, val acc 0.382425, test acc 0.355108\n",
      "\n",
      "\n",
      "C=0.500000\n",
      "Epoch FINAL, step FINAL:\n",
      "\ttrain loss [0.56036479626564717, 0.62402324602430659, 0.5970298957160115, 0.51926061515277622],\n",
      "\tvalidation loss [0.75278141124749631, 0.57940577394470805, 0.71857812048365699, 0.24359829363050192],\n",
      "\ttest loss [0.77240340254491668, 0.59461379111867496, 0.65824273702150149, 0.27170687429508444],\n",
      "\tper-category test accuracy [ 0.65324163  0.73330057  0.70825148  0.90520626],\n",
      "\toverall validation accuracy 0.364261,\n",
      "\toverall test accuracy 0.345285,\n",
      "\tvalidation f1 0.290858,\n",
      "\ttest f1 0.270629\n",
      "Best according to f1: index 359, val f1 0.325060, test f1 0.315860\n",
      "Best according to accuracy: index 503, val acc 0.386843, test acc 0.363458\n",
      "\n",
      "\n",
      "C=1.000000\n",
      "Epoch FINAL, step FINAL:\n",
      "\ttrain loss [0.55988832278785161, 0.62425877851345157, 0.59690667250240825, 0.51784726660961111],\n",
      "\tvalidation loss [0.75381157979784619, 0.57949433119870486, 0.7196797772547241, 0.24008179305332544],\n",
      "\ttest loss [0.77345623819379616, 0.59461879146426921, 0.65848399126388912, 0.26827203489678331],\n",
      "\tper-category test accuracy [ 0.65324163  0.73330057  0.70825148  0.90520626],\n",
      "\toverall validation accuracy 0.378989,\n",
      "\toverall test accuracy 0.368861,\n",
      "\tvalidation f1 0.333038,\n",
      "\ttest f1 0.321545\n",
      "Best according to f1: index 341, val f1 0.352213, test f1 0.350285\n",
      "Best according to accuracy: index 413, val acc 0.396171, test acc 0.390963\n",
      "\n",
      "\n",
      "C=2.000000\n",
      "Epoch FINAL, step FINAL:\n",
      "\ttrain loss [0.56076318493425736, 0.62506522991773639, 0.59762494070932359, 0.51770288354325278],\n",
      "\tvalidation loss [0.75541788074901328, 0.58013424536314839, 0.7211995957459828, 0.23892119958518543],\n",
      "\ttest loss [0.77502737113173426, 0.59530068328561991, 0.65954276233897857, 0.26717252015839232],\n",
      "\tper-category test accuracy [ 0.65324163  0.73330057  0.70825148  0.90520626],\n",
      "\toverall validation accuracy 0.404026,\n",
      "\toverall test accuracy 0.406680,\n",
      "\tvalidation f1 0.389134,\n",
      "\ttest f1 0.390192\n",
      "Best according to f1: index 415, val f1 0.395951, test f1 0.383481\n",
      "Best according to accuracy: index 551, val acc 0.429062, test acc 0.422397\n",
      "\n",
      "\n",
      "C=4.000000\n",
      "Epoch FINAL, step FINAL:\n",
      "\ttrain loss [0.56414074383678414, 0.62592299981233768, 0.59994505835796219, 0.51837013245614783],\n",
      "\tvalidation loss [0.75893287979780233, 0.58092488206927928, 0.72391103266224399, 0.23913957058175478],\n",
      "\ttest loss [0.77849184764235568, 0.59611651743079619, 0.66204245946307716, 0.26739058837005908],\n",
      "\tper-category test accuracy [ 0.65324163  0.73330057  0.70825148  0.90520626],\n",
      "\toverall validation accuracy 0.449681,\n",
      "\toverall test accuracy 0.434185,\n",
      "\tvalidation f1 0.448937,\n",
      "\ttest f1 0.430739\n",
      "Best according to f1: index 433, val f1 0.457422, test f1 0.437144\n",
      "Best according to accuracy: index 587, val acc 0.464899, test acc 0.462181\n",
      "\n",
      "\n",
      "C=8.000000\n",
      "Epoch FINAL, step FINAL:\n",
      "\ttrain loss [0.57533706383415817, 0.62693573831249161, 0.60778640832279007, 0.52170197591914191],\n",
      "\tvalidation loss [0.76982779753796271, 0.58201543747281115, 0.73171674543981469, 0.24237913566071281],\n",
      "\ttest loss [0.78927528583546869, 0.59722522469810657, 0.66972271986845366, 0.27060060068523173],\n",
      "\tper-category test accuracy [ 0.65324163  0.73330057  0.70825148  0.90520626],\n",
      "\toverall validation accuracy 0.474718,\n",
      "\toverall test accuracy 0.466110,\n",
      "\tvalidation f1 0.476635,\n",
      "\ttest f1 0.466960\n",
      "Best according to f1: index 463, val f1 0.482297, test f1 0.479411\n",
      "Best according to accuracy: index 365, val acc 0.497791, test acc 0.493615\n",
      "\n",
      "\n",
      "C=16.000000\n",
      "Epoch FINAL, step FINAL:\n",
      "\ttrain loss [0.61017988593692862, 0.6291330351595561, 0.63283934155972377, 0.53568189158460355],\n",
      "\tvalidation loss [0.80466367118770987, 0.58429128054173562, 0.75662503577929785, 0.25639962805797351],\n",
      "\ttest loss [0.82394723919312696, 0.59954188698477939, 0.69443797222529347, 0.28456016468382661],\n",
      "\tper-category test accuracy [ 0.65324163  0.73330057  0.70825148  0.90520626],\n",
      "\toverall validation accuracy 0.488954,\n",
      "\toverall test accuracy 0.481336,\n",
      "\tvalidation f1 0.488233,\n",
      "\ttest f1 0.479599\n",
      "Best according to f1: index 557, val f1 0.499427, test f1 0.505923\n",
      "Best according to accuracy: index 557, val acc 0.518900, test acc 0.527014\n",
      "\n",
      "\n",
      "C=32.000000\n",
      "Epoch FINAL, step FINAL:\n",
      "\ttrain loss [0.70978768258228153, 0.63563096362043991, 0.70949245784823889, 0.58975796589015894],\n",
      "\tvalidation loss [0.90468226996594847, 0.59089823200131342, 0.83389438334159394, 0.31106074676256446],\n",
      "\ttest loss [0.92382550945503883, 0.60628786974394477, 0.77109466383209835, 0.33905429174900703],\n",
      "\tper-category test accuracy [ 0.65324163  0.73330057  0.70825148  0.90520626],\n",
      "\toverall validation accuracy 0.472754,\n",
      "\toverall test accuracy 0.473969,\n",
      "\tvalidation f1 0.481038,\n",
      "\ttest f1 0.482885\n",
      "Best according to f1: index 406, val f1 0.511791, test f1 0.513348\n",
      "Best according to accuracy: index 545, val acc 0.530682, test acc 0.533399\n",
      "\n",
      "\n",
      "C=64.000000\n",
      "Epoch FINAL, step FINAL:\n",
      "\ttrain loss [0.82397660249914795, 0.65253262498227116, 0.83058375541718066, 0.68418164648124291],\n",
      "\tvalidation loss [1.0147932481892794, 0.60799683188036779, 0.95663189193220632, 0.4051419592413833],\n",
      "\ttest loss [1.0335079012183641, 0.62359135537489019, 0.89279609258726822, 0.43302542439709313],\n",
      "\tper-category test accuracy [ 0.65324163  0.73330057  0.70825148  0.90520626],\n",
      "\toverall validation accuracy 0.464899,\n",
      "\toverall test accuracy 0.476916,\n",
      "\tvalidation f1 0.422084,\n",
      "\ttest f1 0.433877\n",
      "Best according to f1: index 434, val f1 0.513829, test f1 0.515799\n",
      "Best according to accuracy: index 383, val acc 0.546883, test acc 0.557466\n",
      "\n",
      "\n",
      "C=128.000000\n",
      "Epoch FINAL, step FINAL:\n",
      "\ttrain loss [0.94926252923235466, 0.64711478572189063, 0.90313097685341903, 0.68503575841781561],\n",
      "\tvalidation loss [1.150516836829371, 0.60311621828692075, 1.0298573570548064, 0.40557529722958752],\n",
      "\ttest loss [1.1695472506071067, 0.61862621264582018, 0.96470980954058172, 0.43359022713948203],\n",
      "\tper-category test accuracy [ 0.65324163  0.73330057  0.70825148  0.90520626],\n",
      "\toverall validation accuracy 0.241532,\n",
      "\toverall test accuracy 0.242633,\n",
      "\tvalidation f1 0.220706,\n",
      "\ttest f1 0.216288\n",
      "Best according to f1: index 502, val f1 0.511088, test f1 0.519934\n",
      "Best according to accuracy: index 440, val acc 0.546883, test acc 0.553045\n",
      "\n",
      "\n",
      "C=256.000000\n",
      "Epoch FINAL, step FINAL:\n",
      "\ttrain loss [1.282713014051974, 0.69048869783301425, 1.0863098646867266, 0.75980329302233796],\n",
      "\tvalidation loss [1.457750621710503, 0.64410301211282039, 1.2144214251544496, 0.46342517866162325],\n",
      "\ttest loss [1.4749413264183002, 0.65907576591014905, 1.1465690278983374, 0.49287411655358093],\n",
      "\tper-category test accuracy [ 0.65324163  0.73330057  0.70825148  0.90520626],\n",
      "\toverall validation accuracy 0.436917,\n",
      "\toverall test accuracy 0.451866,\n",
      "\tvalidation f1 0.000000,\n",
      "\ttest f1 0.000000\n",
      "Best according to f1: index 316, val f1 0.503447, test f1 0.000000\n",
      "Best according to accuracy: index 566, val acc 0.548355, test acc 0.562868\n",
      "\n",
      "\n",
      "C=512.000000\n",
      "Epoch FINAL, step FINAL:\n",
      "\ttrain loss [2.4154246328299434, 1.3492905473301997, 1.5678228517147605, 1.0779583289044696],\n",
      "\tvalidation loss [2.5634838040782664, 1.3003997163991592, 1.6685611737111499, 0.75622952193023529],\n",
      "\ttest loss [2.578105356605576, 1.3137965648155703, 1.6085852282400661, 0.78803117670544642],\n",
      "\tper-category test accuracy [ 0.65324163  0.73330057  0.70825148  0.90520626],\n",
      "\toverall validation accuracy 0.536082,\n",
      "\toverall test accuracy 0.551081,\n",
      "\tvalidation f1 0.000000,\n",
      "\ttest f1 0.000000\n",
      "Best according to f1: index 556, val f1 0.513848, test f1 0.508935\n",
      "Best according to accuracy: index 422, val acc 0.548355, test acc 0.553045\n",
      "\n",
      "\n",
      "C=1024.000000\n",
      "Epoch FINAL, step FINAL:\n",
      "\ttrain loss [6.3494439686982016, 4.9996150866963545, 3.4746423481776674, 2.3538613078348773],\n",
      "\tvalidation loss [6.4544395227326357, 4.9504219930966178, 3.5793854627911581, 1.99480198308156],\n",
      "\ttest loss [6.4649789110202223, 4.960298738720784, 3.5120045080891429, 2.0301127363089213],\n",
      "\tper-category test accuracy [ 0.65324163  0.74312377  0.70874262  0.90520626],\n",
      "\toverall validation accuracy 0.467354,\n",
      "\toverall test accuracy 0.488703,\n",
      "\tvalidation f1 0.000000,\n",
      "\ttest f1 0.000000\n",
      "Best according to f1: index 329, val f1 0.516713, test f1 0.525809\n",
      "Best according to accuracy: index 377, val acc 0.551301, test acc 0.558448\n",
      "\n",
      "\n",
      "C=2048.000000\n",
      "Epoch FINAL, step FINAL:\n",
      "\ttrain loss [21.252144251044292, 19.933152305723773, 11.166133127487525, 7.1851494447384976],\n",
      "\tvalidation loss [21.521540968231943, 19.868707451599889, 11.332803100394889, 6.7290288051347469],\n",
      "\ttest loss [21.540172998188915, 19.875824678329849, 11.219959207081246, 6.7732130431988375],\n",
      "\tper-category test accuracy [ 0.65324163  0.76178783  0.70825148  0.90520626],\n",
      "\toverall validation accuracy 0.263623,\n",
      "\toverall test accuracy 0.271120,\n",
      "\tvalidation f1 0.000000,\n",
      "\ttest f1 0.000000\n",
      "Best according to f1: index 335, val f1 0.522159, test f1 0.526958\n",
      "Best according to accuracy: index 554, val acc 0.555228, test acc 0.556483\n",
      "\n",
      "\n",
      "C=4096.000000\n",
      "Epoch FINAL, step FINAL:\n",
      "\ttrain loss [63.777170817493207, 55.706083379105515, 32.173373511417083, 21.863150717146159],\n",
      "\tvalidation loss [64.091353284639169, 55.650457176608278, 32.151690482321719, 21.270437801083812],\n",
      "\ttest loss [64.112235870483644, 55.657544663091997, 32.112953748581567, 21.328602259368868],\n",
      "\tper-category test accuracy [ 0.65324163  0.72937131  0.75589389  0.90520626],\n",
      "\toverall validation accuracy 0.407953,\n",
      "\toverall test accuracy 0.395874,\n",
      "\tvalidation f1 0.000000,\n",
      "\ttest f1 0.000000\n",
      "Best according to f1: index 117, val f1 0.518898, test f1 0.520481\n",
      "Best according to accuracy: index 335, val acc 0.554737, test acc 0.566306\n",
      "\n",
      "\n",
      "C=8192.000000\n",
      "Epoch FINAL, step FINAL:\n",
      "\ttrain loss [197.16192980650354, 172.32725192569515, 92.504432977651334, 58.556852590798037],\n",
      "\tvalidation loss [198.00169771725825, 172.22447284027896, 92.530010159070656, 58.225284946020999],\n",
      "\ttest loss [198.06342725089283, 172.22238747306233, 92.429247990149705, 58.261392012511195],\n",
      "\tper-category test accuracy [ 0.65324163  0.36640471  0.74263263  0.85510808],\n",
      "\toverall validation accuracy 0.298478,\n",
      "\toverall test accuracy 0.311395,\n",
      "\tvalidation f1 0.000000,\n",
      "\ttest f1 0.000000\n",
      "Best according to f1: index 329, val f1 0.489243, test f1 0.493303\n",
      "Best according to accuracy: index 134, val acc 0.546392, test acc 0.548134\n",
      "\n",
      "\n",
      "C=16384.000000\n",
      "Epoch FINAL, step FINAL:\n",
      "\ttrain loss [637.23630715645459, 694.29702166487982, 342.13711020882806, 263.80589186242418],\n",
      "\tvalidation loss [638.37781141798064, 694.03334843193045, 342.0133104230764, 260.54741650315071],\n",
      "\ttest loss [638.46018396188458, 694.08692546725433, 341.94242209027186, 260.86063979234643],\n",
      "\tper-category test accuracy [ 0.65324163  0.73526525  0.74263263  0.90520626],\n",
      "\toverall validation accuracy 0.337261,\n",
      "\toverall test accuracy 0.310904,\n",
      "\tvalidation f1 0.000000,\n",
      "\ttest f1 0.000000\n",
      "Best according to f1: index 401, val f1 0.495707, test f1 0.501674\n",
      "Best according to accuracy: index 55, val acc 0.548846, test acc 0.558939\n",
      "\n",
      "\n",
      "C=32768.000000\n",
      "Epoch FINAL, step FINAL:\n",
      "\ttrain loss [2441.2706558143591, 2704.7415044570575, 1129.2426658351158, 1015.678817647673],\n",
      "\tvalidation loss [2444.6059519618134, 2704.3365231597859, 1129.1489491033587, 1013.347121743609],\n",
      "\ttest loss [2444.8547257914424, 2704.3633385405924, 1128.9379565503014, 1013.5793651968112],\n",
      "\tper-category test accuracy [ 0.65324163  0.33742633  0.75589389  0.90373284],\n",
      "\toverall validation accuracy 0.310260,\n",
      "\toverall test accuracy 0.320236,\n",
      "\tvalidation f1 0.000000,\n",
      "\ttest f1 0.000000\n",
      "Best according to f1: index 566, val f1 0.497576, test f1 0.502625\n",
      "Best according to accuracy: index 399, val acc 0.543446, test acc 0.553045\n",
      "\n",
      "\n",
      "OVERALL\n",
      "Best f1 is at index 16, best accuracy is at index 16\n"
     ]
    },
    {
     "data": {
      "text/plain": [
       "<matplotlib.figure.Figure at 0x7f53784cd4d0>"
      ]
     },
     "metadata": {},
     "output_type": "display_data"
    }
   ],
   "source": [
    "# Run SVM with various values of C\n",
    "learning_rate = 0.0003\n",
    "batch_size = 200\n",
    "epochs = 100\n",
    "# Recommended to try C in range 2^{-5 ... 15} from http://www.csie.ntu.edu.tw/~cjlin/papers/guide/guide.pdf\n",
    "Cs = [2.0**x for x in xrange(-5, 16)]\n",
    "hog_results = svm_C_search(\n",
    "    train, validation, test, 'hog_features', learning_rate, batch_size, epochs, Cs, 'svm_graphs/hog')"
   ]
  },
  {
   "cell_type": "code",
   "execution_count": 154,
   "metadata": {
    "collapsed": true
   },
   "outputs": [],
   "source": [
    "# Store results\n",
    "#import pickle\n",
    "#with open('hog_svn_results.p', 'wb') as f:\n",
    "#    pickle.dump(hog_results, f)\n",
    "#np.save('hog_svn_best_ws.npy', np.hstack(hog_results['best_ws_by_validation_f1'][16]))"
   ]
  },
  {
   "cell_type": "code",
   "execution_count": 157,
   "metadata": {
    "collapsed": true
   },
   "outputs": [],
   "source": [
    "# Restore results\n",
    "import pickle\n",
    "with open('hog_svn_results.p', 'rb') as f:\n",
    "    hog_results = pickle.load(f)"
   ]
  },
  {
   "cell_type": "code",
   "execution_count": 160,
   "metadata": {
    "collapsed": false
   },
   "outputs": [
    {
     "name": "stdout",
     "output_type": "stream",
     "text": [
      "0.556483\n",
      "0.526957574876\n"
     ]
    }
   ],
   "source": [
    "print hog_results['test_accuracy_at_best'][16]\n",
    "print hog_results['test_f1_at_best'][16]"
   ]
  },
  {
   "cell_type": "code",
   "execution_count": 162,
   "metadata": {
    "collapsed": false
   },
   "outputs": [
    {
     "name": "stdout",
     "output_type": "stream",
     "text": [
      "0.548133595285\n",
      "0.526957574876\n"
     ]
    }
   ],
   "source": [
    "hog_ws = np.hstack(hog_results['best_ws_by_validation_f1'][16])\n",
    "hog_predictions, _ = get_multiclass_predictions(test['hog_features'], hog_ws)\n",
    "hog_actuals = np.argmax(test['labels'], axis=1)\n",
    "print np.count_nonzero(np.equal(hog_predictions, hog_actuals)) / float(len(hog_actuals))\n",
    "print get_np_weighted_f1(hog_predictions, hog_actuals, 4)"
   ]
  },
  {
   "cell_type": "code",
   "execution_count": 120,
   "metadata": {
    "collapsed": false
   },
   "outputs": [
    {
     "data": {
      "image/png": "[encoded data removed]",
      "text/plain": [
       "<matplotlib.figure.Figure at 0x7f5369ca9450>"
      ]
     },
     "metadata": {},
     "output_type": "display_data"
    }
   ],
   "source": [
    "plt.plot(hog_results['Cs'], hog_results['best_validation_accuracy'])\n",
    "plt.plot(hog_results['Cs'], hog_results['test_accuracy_at_best'])\n",
    "plt.xscale('log')"
   ]
  },
  {
   "cell_type": "code",
   "execution_count": 116,
   "metadata": {
    "collapsed": false
   },
   "outputs": [
    {
     "data": {
      "image/png": "[encoded data removed]",
      "text/plain": [
       "<matplotlib.figure.Figure at 0x7f5378479250>"
      ]
     },
     "metadata": {},
     "output_type": "display_data"
    }
   ],
   "source": [
    "plt.plot(hog_results['Cs'], hog_results['best_validation_f1'])\n",
    "plt.plot(hog_results['Cs'], hog_results['test_f1_at_best'])\n",
    "plt.xscale('log')"
   ]
  },
  {
   "cell_type": "code",
   "execution_count": 164,
   "metadata": {
    "collapsed": false
   },
   "outputs": [
    {
     "name": "stdout",
     "output_type": "stream",
     "text": [
      "832\n",
      "921\n",
      "284\n",
      "0\n"
     ]
    }
   ],
   "source": [
    "(predictions, _) = get_multiclass_predictions(validation['hog_features'], ws)\n",
    "print np.count_nonzero(np.equal(predictions, 0))\n",
    "print np.count_nonzero(np.equal(predictions, 1))\n",
    "print np.count_nonzero(np.equal(predictions, 2))\n",
    "print np.count_nonzero(np.equal(predictions, 3))"
   ]
  },
  {
   "cell_type": "markdown",
   "metadata": {},
   "source": [
    "# Apply SVM to Autoencoder Features"
   ]
  },
  {
   "cell_type": "code",
   "execution_count": 121,
   "metadata": {
    "collapsed": false,
    "scrolled": true
   },
   "outputs": [
    {
     "name": "stdout",
     "output_type": "stream",
     "text": [
      "C=0.031250\n",
      "Epoch FINAL, step FINAL:\n",
      "\ttrain loss [0.48306666754151234, 0.56559703485047208, 0.52768221598350684, 0.44738419664530799],\n",
      "\tvalidation loss [0.67254602137264818, 0.52245645157260334, 0.65267284963130723, 0.16811952186764575],\n",
      "\ttest loss [0.69119224961571202, 0.53873612779644864, 0.59048722553307398, 0.19630633019448596],\n",
      "\tper-category test accuracy [ 0.65324163  0.73330057  0.70825148  0.90520626],\n",
      "\toverall validation accuracy 0.493864,\n",
      "\toverall test accuracy 0.479371,\n",
      "\tvalidation f1 0.498216,\n",
      "\ttest f1 0.483056\n",
      "Best according to f1: index 1197, val f1 0.503387, test f1 0.495606\n",
      "Best according to accuracy: index 1199, val acc 0.500736, test acc 0.495088\n",
      "\n",
      "\n",
      "C=0.062500\n",
      "Epoch FINAL, step FINAL:\n",
      "\ttrain loss [0.48136259502036527, 0.5646233698598393, 0.52583715295854261, 0.44609885449173153],\n",
      "\tvalidation loss [0.66930952343887473, 0.52133710669413791, 0.6503778990013237, 0.16687085541815269],\n",
      "\ttest loss [0.68767973112097525, 0.53759780879397179, 0.58812941235506588, 0.19499983504789176],\n",
      "\tper-category test accuracy [ 0.65324163  0.73330057  0.70825148  0.90520626],\n",
      "\toverall validation accuracy 0.569465,\n",
      "\toverall test accuracy 0.554519,\n",
      "\tvalidation f1 0.565274,\n",
      "\ttest f1 0.548796\n",
      "Best according to f1: index 1199, val f1 0.568621, test f1 0.559249\n",
      "Best according to accuracy: index 1199, val acc 0.575847, test acc 0.569745\n",
      "\n",
      "\n",
      "C=0.125000\n",
      "Epoch FINAL, step FINAL:\n",
      "\ttrain loss [0.48024244676117994, 0.56395118798085997, 0.52458578204737283, 0.44572374212159688],\n",
      "\tvalidation loss [0.66530039103889549, 0.52048005655001417, 0.64890323549683382, 0.16590963397254305],\n",
      "\ttest loss [0.68334676802561634, 0.53673565813535473, 0.58637855809945194, 0.19421833095635119],\n",
      "\tper-category test accuracy [ 0.65324163  0.73330057  0.70825148  0.90520626],\n",
      "\toverall validation accuracy 0.603829,\n",
      "\toverall test accuracy 0.601670,\n",
      "\tvalidation f1 0.594405,\n",
      "\ttest f1 0.586003\n",
      "Best according to f1: index 1194, val f1 0.602807, test f1 0.592882\n",
      "Best according to accuracy: index 1188, val acc 0.612666, test acc 0.608055\n",
      "\n",
      "\n",
      "C=0.250000\n",
      "Epoch FINAL, step FINAL:\n",
      "\ttrain loss [0.47947811308591953, 0.56377341901557276, 0.52400220253874208, 0.4458605554319624],\n",
      "\tvalidation loss [0.65940379485260081, 0.52026106307490505, 0.64811513742158122, 0.16551808253007086],\n",
      "\ttest loss [0.67675559420272946, 0.53651470434410398, 0.58543361185397291, 0.19400259777874901],\n",
      "\tper-category test accuracy [ 0.65324163  0.73330057  0.70825148  0.90520626],\n",
      "\toverall validation accuracy 0.600884,\n",
      "\toverall test accuracy 0.605599,\n",
      "\tvalidation f1 0.587067,\n",
      "\ttest f1 0.587430\n",
      "Best according to f1: index 1073, val f1 0.604471, test f1 0.591502\n",
      "Best according to accuracy: index 1073, val acc 0.620029, test acc 0.614440\n",
      "\n",
      "\n",
      "C=0.500000\n",
      "Epoch FINAL, step FINAL:\n",
      "\ttrain loss [0.47946548623518043, 0.56355856525082082, 0.52381052513999504, 0.44620315491660556],\n",
      "\tvalidation loss [0.64929616021974879, 0.52017524452053854, 0.64782311983431962, 0.16550957381764855],\n",
      "\ttest loss [0.66531888488857072, 0.53640010036616248, 0.58489058489768897, 0.19409329711428006],\n",
      "\tper-category test accuracy [ 0.65324163  0.73330057  0.70825148  0.90520626],\n",
      "\toverall validation accuracy 0.591065,\n",
      "\toverall test accuracy 0.602652,\n",
      "\tvalidation f1 0.578288,\n",
      "\ttest f1 0.585503\n",
      "Best according to f1: index 1044, val f1 0.610036, test f1 0.610001\n",
      "Best according to accuracy: index 972, val acc 0.621993, test acc 0.625246\n",
      "\n",
      "\n",
      "C=1.000000\n",
      "Epoch FINAL, step FINAL:\n",
      "\ttrain loss [0.48333337472196758, 0.56445071871453023, 0.52567157117382857, 0.44744865087981756],\n",
      "\tvalidation loss [0.63314389695180617, 0.52135291512414472, 0.65032478768535362, 0.16763029246944464],\n",
      "\ttest loss [0.64659401659418625, 0.53754666294183573, 0.5864534762016308, 0.19619503666598201],\n",
      "\tper-category test accuracy [ 0.65324163  0.73330057  0.70825148  0.90520626],\n",
      "\toverall validation accuracy 0.504173,\n",
      "\toverall test accuracy 0.528978,\n",
      "\tvalidation f1 0.483276,\n",
      "\ttest f1 0.500701\n",
      "Best according to f1: index 1092, val f1 0.625360, test f1 0.635386\n",
      "Best according to accuracy: index 1080, val acc 0.645066, test acc 0.655697\n",
      "\n",
      "\n",
      "C=2.000000\n",
      "Epoch FINAL, step FINAL:\n",
      "\ttrain loss [0.50470156102006625, 0.56373478885552153, 0.53101008399414062, 0.44944702138353143],\n",
      "\tvalidation loss [0.61512464642143816, 0.52098378502399756, 0.65479247148705566, 0.16812950753589595],\n",
      "\ttest loss [0.62361392957627304, 0.53746856893703199, 0.59012187664149507, 0.19665850831911266],\n",
      "\tper-category test accuracy [ 0.66502947  0.73330057  0.70825148  0.90471512],\n",
      "\toverall validation accuracy 0.565538,\n",
      "\toverall test accuracy 0.582515,\n",
      "\tvalidation f1 0.547847,\n",
      "\ttest f1 0.568998\n",
      "Best according to f1: index 684, val f1 0.634816, test f1 0.630870\n",
      "Best according to accuracy: index 996, val acc 0.648503, test acc 0.646857\n",
      "\n",
      "\n",
      "C=4.000000\n",
      "Epoch FINAL, step FINAL:\n",
      "\ttrain loss [0.57107722821863582, 0.57050452483116865, 0.54082536685566729, 0.45812074457035229],\n",
      "\tvalidation loss [0.62102036308004838, 0.52991690702673022, 0.65995936850875792, 0.17746312121350516],\n",
      "\ttest loss [0.62230095833881904, 0.54693017907809482, 0.59442715807840574, 0.20514920940745146],\n",
      "\tper-category test accuracy [ 0.7598232   0.73330057  0.70825148  0.90471512],\n",
      "\toverall validation accuracy 0.557683,\n",
      "\toverall test accuracy 0.582024,\n",
      "\tvalidation f1 0.532552,\n",
      "\ttest f1 0.560108\n",
      "Best according to f1: index 546, val f1 0.641414, test f1 0.643035\n",
      "Best according to accuracy: index 576, val acc 0.656357, test acc 0.660609\n",
      "\n",
      "\n",
      "C=8.000000\n",
      "Epoch FINAL, step FINAL:\n",
      "\ttrain loss [0.64354519854466785, 0.59260531755160417, 0.56703650517412274, 0.4780277699634351],\n",
      "\tvalidation loss [0.6656775849192017, 0.55458088952788409, 0.67645626321410701, 0.19646578193229042],\n",
      "\ttest loss [0.66537695620290127, 0.57217285938616136, 0.60917729184777902, 0.22233363136769163],\n",
      "\tper-category test accuracy [ 0.79322201  0.73330057  0.70825148  0.90471512],\n",
      "\toverall validation accuracy 0.491409,\n",
      "\toverall test accuracy 0.518173,\n",
      "\tvalidation f1 0.466723,\n",
      "\ttest f1 0.490981\n",
      "Best according to f1: index 855, val f1 0.653067, test f1 0.652926\n",
      "Best according to accuracy: index 978, val acc 0.670594, test acc 0.654224\n",
      "\n",
      "\n",
      "C=16.000000\n",
      "Epoch FINAL, step FINAL:\n",
      "\ttrain loss [0.72134017554084762, 0.58170093990097727, 0.62502597723864373, 0.53501015100856886],\n",
      "\tvalidation loss [0.72762181171449702, 0.54760186498448693, 0.70764943015187731, 0.25273332519231451],\n",
      "\ttest loss [0.72757197772273985, 0.56602022960240383, 0.64024109474270074, 0.27510902029434225],\n",
      "\tper-category test accuracy [ 0.80648333  0.73330057  0.70923382  0.90471512],\n",
      "\toverall validation accuracy 0.590083,\n",
      "\toverall test accuracy 0.597741,\n",
      "\tvalidation f1 0.599955,\n",
      "\ttest f1 0.604420\n",
      "Best according to f1: index 310, val f1 0.657446, test f1 0.649656\n",
      "Best according to accuracy: index 1039, val acc 0.674521, test acc 0.658153\n",
      "\n",
      "\n",
      "C=32.000000\n",
      "Epoch FINAL, step FINAL:\n",
      "\ttrain loss [0.83228426033642899, 0.67823094380688986, 0.7767981733709215, 0.71113697470117276],\n",
      "\tvalidation loss [0.82060385392750057, 0.65927938807186171, 0.80409947551308925, 0.43472614609311755],\n",
      "\ttest loss [0.81850195755782351, 0.68096667947964029, 0.7397582496076347, 0.44901840309350816],\n",
      "\tper-category test accuracy [ 0.82220042  0.73526525  0.73772103  0.91306484],\n",
      "\toverall validation accuracy 0.610702,\n",
      "\toverall test accuracy 0.613949,\n",
      "\tvalidation f1 0.619567,\n",
      "\ttest f1 0.622323\n",
      "Best according to f1: index 727, val f1 0.659842, test f1 0.657819\n",
      "Best according to accuracy: index 305, val acc 0.675012, test acc 0.663065\n",
      "\n",
      "\n",
      "C=64.000000\n",
      "Epoch FINAL, step FINAL:\n",
      "\ttrain loss [1.283184118509026, 0.84671537853890055, 1.9203520261539553, 1.4035812511887071],\n",
      "\tvalidation loss [1.1778337325687349, 0.83681889220358785, 2.1019718174493534, 1.3297469045458561],\n",
      "\ttest loss [1.1658849873353103, 0.86053300366317098, 1.9323147008792665, 1.3210107057714473],\n",
      "\tper-category test accuracy [ 0.84381139  0.7401768   0.70825148  0.60216111],\n",
      "\toverall validation accuracy 0.381934,\n",
      "\toverall test accuracy 0.400786,\n",
      "\tvalidation f1 0.000000,\n",
      "\ttest f1 0.000000\n",
      "Best according to f1: index 932, val f1 0.654475, test f1 0.644406\n",
      "Best according to accuracy: index 1033, val acc 0.674030, test acc 0.651768\n",
      "\n",
      "\n",
      "C=128.000000\n",
      "Epoch FINAL, step FINAL:\n",
      "\ttrain loss [3.795784860528804, 4.3906693972880984, 5.4425909597890945, 3.0462490554468773],\n",
      "\tvalidation loss [4.3532033896898756, 4.2377271208420133, 6.0547432953626963, 2.0367142054931784],\n",
      "\ttest loss [4.3871563840487635, 4.3385127968893462, 5.612066744046631, 2.1085444529832911],\n",
      "\tper-category test accuracy [ 0.65471512  0.73330057  0.70825148  0.90520626],\n",
      "\toverall validation accuracy 0.350025,\n",
      "\toverall test accuracy 0.370825,\n",
      "\tvalidation f1 0.000000,\n",
      "\ttest f1 0.000000\n",
      "Best according to f1: index 350, val f1 0.652128, test f1 0.642910\n",
      "Best according to accuracy: index 230, val acc 0.669612, test acc 0.653733\n",
      "\n",
      "\n",
      "C=256.000000\n",
      "Epoch FINAL, step FINAL:\n",
      "\ttrain loss [8.925547105128695, 7.301135108761958, 13.032445500162758, 6.4842394439348334],\n",
      "\tvalidation loss [9.4027602875685137, 7.228378840038479, 14.241066685794834, 6.2153135187142494],\n",
      "\ttest loss [9.4304785787772527, 7.2761224145231242, 13.400509012297867, 6.2181088059509237],\n",
      "\tper-category test accuracy [ 0.68467581  0.3113949   0.70825148  0.66846758],\n",
      "\toverall validation accuracy 0.278841,\n",
      "\toverall test accuracy 0.293713,\n",
      "\tvalidation f1 0.000000,\n",
      "\ttest f1 0.000000\n",
      "Best according to f1: index 990, val f1 0.647924, test f1 0.643733\n",
      "Best according to accuracy: index 115, val acc 0.667158, test acc 0.657662\n",
      "\n",
      "\n",
      "C=512.000000\n",
      "Epoch FINAL, step FINAL:\n",
      "\ttrain loss [27.714792638785735, 16.017833766048621, 25.941852875580484, 23.756952634905772],\n",
      "\tvalidation loss [27.917431484585865, 16.196224400247072, 25.659746855074001, 23.065465997360512],\n",
      "\ttest loss [27.917198358272664, 16.31919904550336, 25.367542046183946, 23.085403700669438],\n",
      "\tper-category test accuracy [ 0.7642436   0.73428291  0.77111983  0.7401768 ],\n",
      "\toverall validation accuracy 0.445754,\n",
      "\toverall test accuracy 0.453831,\n",
      "\tvalidation f1 0.472926,\n",
      "\ttest f1 0.469375\n",
      "Best according to f1: index 508, val f1 0.649517, test f1 0.644348\n",
      "Best according to accuracy: index 1070, val acc 0.665685, test acc 0.648821\n",
      "\n",
      "\n",
      "C=1024.000000\n",
      "Epoch FINAL, step FINAL:\n",
      "\ttrain loss [101.16642293154902, 81.791930606979378, 93.60570089860235, 87.891274802157071],\n",
      "\tvalidation loss [101.98303910972837, 80.509352376267699, 93.155145726436487, 81.707373068429433],\n",
      "\ttest loss [102.03675648665622, 81.307437191332554, 92.468448054708091, 82.104359358189811],\n",
      "\tper-category test accuracy [ 0.72691554  0.73330057  0.74754423  0.90471512],\n",
      "\toverall validation accuracy 0.575847,\n",
      "\toverall test accuracy 0.578094,\n",
      "\tvalidation f1 0.000000,\n",
      "\ttest f1 0.000000\n",
      "Best according to f1: index 536, val f1 0.645662, test f1 0.648764\n",
      "Best according to accuracy: index 494, val acc 0.666176, test acc 0.649312\n",
      "\n",
      "\n",
      "C=2048.000000\n",
      "Epoch FINAL, step FINAL:\n",
      "\ttrain loss [368.39363778509545, 209.34399683406787, 346.03090563146878, 287.06654386221362],\n",
      "\tvalidation loss [372.74374360398787, 209.97507296785102, 346.09015690949451, 282.89904522980464],\n",
      "\ttest loss [372.9615915722365, 210.42537124849244, 344.14740570447901, 283.03793743430504],\n",
      "\tper-category test accuracy [ 0.6625737   0.73477405  0.71905696  0.89096266],\n",
      "\toverall validation accuracy 0.412862,\n",
      "\toverall test accuracy 0.431729,\n",
      "\tvalidation f1 0.468726,\n",
      "\ttest f1 0.483079\n",
      "Best according to f1: index 242, val f1 0.648044, test f1 0.640302\n",
      "Best according to accuracy: index 242, val acc 0.667158, test acc 0.657171\n",
      "\n",
      "\n",
      "C=4096.000000\n",
      "Epoch FINAL, step FINAL:\n",
      "\ttrain loss [1457.4207309435787, 896.08110448442744, 1456.3634112325853, 1144.6153668905222],\n",
      "\tvalidation loss [1463.9603299227651, 892.9457262744221, 1462.6115547788399, 1137.2024349855992],\n",
      "\ttest loss [1464.319329909317, 895.48775636716152, 1455.752997521173, 1137.5584110616346],\n",
      "\tper-category test accuracy [ 0.67485267  0.73330057  0.70825148  0.8727898 ],\n",
      "\toverall validation accuracy 0.285223,\n",
      "\toverall test accuracy 0.315815,\n",
      "\tvalidation f1 0.000000,\n",
      "\ttest f1 0.000000\n",
      "Best according to f1: index 793, val f1 0.646240, test f1 0.636978\n",
      "Best according to accuracy: index 793, val acc 0.666667, test acc 0.656189\n",
      "\n",
      "\n",
      "C=8192.000000\n",
      "Epoch FINAL, step FINAL:\n",
      "\ttrain loss [5872.2612479005802, 3246.094373408469, 5646.4109750715716, 4869.714137873254],\n",
      "\tvalidation loss [5904.9398623384977, 3247.7462929913586, 5685.0734366662355, 4816.2354034405935],\n",
      "\ttest loss [5907.1505805802017, 3250.2383548653247, 5658.8273935223306, 4819.8245454417693],\n",
      "\tper-category test accuracy [ 0.65373284  0.73330057  0.70825148  0.90520626],\n",
      "\toverall validation accuracy 0.402062,\n",
      "\toverall test accuracy 0.416994,\n",
      "\tvalidation f1 0.000000,\n",
      "\ttest f1 0.000000\n",
      "Best according to f1: index 321, val f1 0.647582, test f1 0.645692\n",
      "Best according to accuracy: index 321, val acc 0.663230, test acc 0.659627\n",
      "\n",
      "\n",
      "C=16384.000000\n",
      "Epoch FINAL, step FINAL:\n",
      "\ttrain loss [22190.804736211656, 12397.649846697241, 21522.741056902058, 19652.880698026616],\n",
      "\tvalidation loss [22202.394393511371, 12402.334545621932, 21559.165435514089, 19546.160394831124],\n",
      "\ttest loss [22203.105185018925, 12404.531623667883, 21526.81326072292, 19553.245995397054],\n",
      "\tper-category test accuracy [ 0.72740668  0.7357564   0.70825148  0.90520626],\n",
      "\toverall validation accuracy 0.461954,\n",
      "\toverall test accuracy 0.479371,\n",
      "\tvalidation f1 0.369210,\n",
      "\ttest f1 0.392910\n",
      "Best according to f1: index 932, val f1 0.652370, test f1 0.647099\n",
      "Best according to accuracy: index 120, val acc 0.668139, test acc 0.650295\n",
      "\n",
      "\n",
      "C=32768.000000\n",
      "Epoch FINAL, step FINAL:\n",
      "\ttrain loss [88907.122380939152, 50750.429652629078, 85868.915110038521, 77858.672637183801],\n",
      "\tvalidation loss [88846.745394610145, 50757.973796680511, 86003.738991802791, 77889.904831190186],\n",
      "\ttest loss [88839.905477563239, 50762.224962565102, 85909.059774066729, 77881.436684077373],\n",
      "\tper-category test accuracy [ 0.71856582  0.73968565  0.70825148  0.27750492],\n",
      "\toverall validation accuracy 0.349534,\n",
      "\toverall test accuracy 0.368369,\n",
      "\tvalidation f1 0.000000,\n",
      "\ttest f1 0.000000\n",
      "Best according to f1: index 972, val f1 0.642470, test f1 0.623290\n",
      "Best according to accuracy: index 972, val acc 0.667158, test acc 0.652259\n",
      "\n",
      "\n",
      "OVERALL\n",
      "Best f1 is at index 10, best accuracy is at index 10\n"
     ]
    },
    {
     "data": {
      "text/plain": [
       "<matplotlib.figure.Figure at 0x7f537ef7a250>"
      ]
     },
     "metadata": {},
     "output_type": "display_data"
    }
   ],
   "source": [
    "# Run SVM with various values of C\n",
    "learning_rate = 0.0001\n",
    "batch_size = 200\n",
    "epochs = 200 # Many of these take longer to converge than HOG, so run for 200 epochs\n",
    "# Recommended to try C in range 2^{-5 ... 15} from http://www.csie.ntu.edu.tw/~cjlin/papers/guide/guide.pdf\n",
    "Cs = [2.0**x for x in xrange(-5, 16)]\n",
    "auto_results = svm_C_search(\n",
    "    train, validation, test, 'autoencodings', learning_rate, batch_size, epochs, Cs, 'svm_graphs/auto')"
   ]
  },
  {
   "cell_type": "code",
   "execution_count": 146,
   "metadata": {
    "collapsed": true
   },
   "outputs": [],
   "source": [
    "# Store results\n",
    "#import pickle\n",
    "#with open('auto_svn_results.p', 'wb') as f:\n",
    "#    pickle.dump(auto_results, f)\n",
    "#np.save('auto_svn_best_ws.npy', np.hstack(auto_results['best_ws_by_validation_f1'][10]))"
   ]
  },
  {
   "cell_type": "code",
   "execution_count": 147,
   "metadata": {
    "collapsed": true
   },
   "outputs": [],
   "source": [
    "# Restore results\n",
    "import pickle\n",
    "with open('auto_svn_results.p', 'rb') as f:\n",
    "    auto_results = pickle.load(f)"
   ]
  },
  {
   "cell_type": "code",
   "execution_count": 149,
   "metadata": {
    "collapsed": false
   },
   "outputs": [
    {
     "name": "stdout",
     "output_type": "stream",
     "text": [
      "0.663065\n",
      "0.657819415973\n"
     ]
    }
   ],
   "source": [
    "print auto_results['test_accuracy_at_best'][10]\n",
    "print auto_results['test_f1_at_best'][10]"
   ]
  },
  {
   "cell_type": "code",
   "execution_count": 153,
   "metadata": {
    "collapsed": false
   },
   "outputs": [
    {
     "name": "stdout",
     "output_type": "stream",
     "text": [
      "0.669941060904\n",
      "0.657819415973\n"
     ]
    }
   ],
   "source": [
    "auto_ws = np.hstack(auto_results['best_ws_by_validation_f1'][10])\n",
    "auto_predictions, _ = get_multiclass_predictions(test['autoencodings'], auto_ws)\n",
    "#print auto_predictions[:100]\n",
    "auto_actuals = np.argmax(test['labels'], axis=1)\n",
    "#print auto_actuals[:100]\n",
    "print np.count_nonzero(np.equal(auto_predictions, auto_actuals)) / float(len(auto_actuals))\n",
    "print get_np_weighted_f1(auto_predictions, auto_actuals, 4)"
   ]
  },
  {
   "cell_type": "code",
   "execution_count": 122,
   "metadata": {
    "collapsed": false
   },
   "outputs": [
    {
     "data": {
      "image/png": "[encoded data removed]",
      "text/plain": [
       "<matplotlib.figure.Figure at 0x7f5369c80d50>"
      ]
     },
     "metadata": {},
     "output_type": "display_data"
    }
   ],
   "source": [
    "plt.plot(auto_results['Cs'], auto_results['best_validation_accuracy'])\n",
    "plt.plot(auto_results['Cs'], auto_results['test_accuracy_at_best'])\n",
    "plt.xscale('log')"
   ]
  },
  {
   "cell_type": "code",
   "execution_count": 125,
   "metadata": {
    "collapsed": false
   },
   "outputs": [
    {
     "data": {
      "image/png": "[encoded data removed]",
      "text/plain": [
       "<matplotlib.figure.Figure at 0x7f537f26d750>"
      ]
     },
     "metadata": {},
     "output_type": "display_data"
    }
   ],
   "source": [
    "plt.plot(auto_results['Cs'], auto_results['best_validation_f1'])\n",
    "plt.plot(auto_results['Cs'], auto_results['test_f1_at_best'])\n",
    "plt.xscale('log')"
   ]
  }
 ],
 "metadata": {
  "kernelspec": {
   "display_name": "Python 2",
   "language": "python",
   "name": "python2"
  },
  "language_info": {
   "codemirror_mode": {
    "name": "ipython",
    "version": 2
   },
   "file_extension": ".py",
   "mimetype": "text/x-python",
   "name": "python",
   "nbconvert_exporter": "python",
   "pygments_lexer": "ipython2",
   "version": "2.7.12"
  }
 },
 "nbformat": 4,
 "nbformat_minor": 1
}
