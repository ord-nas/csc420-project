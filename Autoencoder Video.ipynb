{
 "cells": [
  {
   "cell_type": "code",
   "execution_count": 1,
   "metadata": {
    "collapsed": true
   },
   "outputs": [],
   "source": [
    "%matplotlib inline"
   ]
  },
  {
   "cell_type": "code",
   "execution_count": 2,
   "metadata": {
    "collapsed": true
   },
   "outputs": [],
   "source": [
    "import cv2"
   ]
  },
  {
   "cell_type": "code",
   "execution_count": 3,
   "metadata": {
    "collapsed": true
   },
   "outputs": [],
   "source": [
    "import numpy as np"
   ]
  },
  {
   "cell_type": "code",
   "execution_count": 4,
   "metadata": {
    "collapsed": true
   },
   "outputs": [],
   "source": [
    "import matplotlib\n",
    "import matplotlib.pyplot as plt"
   ]
  },
  {
   "cell_type": "code",
   "execution_count": 5,
   "metadata": {
    "collapsed": true
   },
   "outputs": [],
   "source": [
    "import os"
   ]
  },
  {
   "cell_type": "code",
   "execution_count": 6,
   "metadata": {
    "collapsed": true
   },
   "outputs": [],
   "source": [
    "small_regions = [\n",
    "    (91, 39),\n",
    "    (212, 39),\n",
    "    (333, 39),\n",
    "    (455, 39),\n",
    "    (91, 120),\n",
    "    (212, 120),\n",
    "    (333, 120),\n",
    "    (455, 120),\n",
    "    (91, 201),\n",
    "    (212, 201),\n",
    "    (333, 201),\n",
    "    (455, 201),\n",
    "    (91, 282),\n",
    "    (212, 282),\n",
    "    (333, 282),\n",
    "    (455, 282),\n",
    "]\n",
    "small_region_size = (70, 70)\n",
    "small_size = (600, 400)\n",
    "\n",
    "large_regions = [\n",
    "    (114, 59),\n",
    "    (276, 59),\n",
    "    (438, 59),\n",
    "    (599, 59),\n",
    "    (114, 184),\n",
    "    (276, 184),\n",
    "    (438, 184),\n",
    "    (599, 184),\n",
    "    (114, 309),\n",
    "    (276, 309),\n",
    "    (438, 309),\n",
    "    (599, 309),\n",
    "    (114, 435),\n",
    "    (276, 435),\n",
    "    (438, 435),\n",
    "    (599, 435),\n",
    "]\n",
    "large_region_size = (108, 108)\n",
    "large_size = (800, 600)\n",
    "\n",
    "small_pad = 15\n",
    "large_pad = 70\n",
    "font_space = 50\n",
    "\n",
    "frame_size = ((2+4)*small_pad + 3*large_pad + 2*4*large_region_size[0],\n",
    "              font_space + 2*small_pad + 3*large_pad + 4*large_region_size[1])"
   ]
  },
  {
   "cell_type": "code",
   "execution_count": 7,
   "metadata": {
    "collapsed": false
   },
   "outputs": [],
   "source": [
    "output_file = \"autoencoder_movie.mp4\"\n",
    "fourcc = 0x20\n",
    "frame_rate = 25\n",
    "stride = 2\n",
    "repeat_last_frame = 10 * 25\n",
    "repeat_first_frame = 1 * 25\n",
    "skip_to_end_after = 950"
   ]
  },
  {
   "cell_type": "code",
   "execution_count": 8,
   "metadata": {
    "collapsed": true
   },
   "outputs": [],
   "source": [
    "def get_cells(img, regions, region_size):\n",
    "    cells = []\n",
    "    (dx, dy) = region_size\n",
    "    for (x, y) in regions:\n",
    "        cell = img[y:y+dy, x:x+dx, 0:3]\n",
    "        cells.append(cv2.resize(cell, large_region_size))\n",
    "    return cells"
   ]
  },
  {
   "cell_type": "code",
   "execution_count": 9,
   "metadata": {
    "collapsed": true
   },
   "outputs": [],
   "source": [
    "golden = get_cells(plt.imread(\"test_golden.png\"),\n",
    "                   small_regions,\n",
    "                   small_region_size)"
   ]
  },
  {
   "cell_type": "code",
   "execution_count": 10,
   "metadata": {
    "collapsed": false
   },
   "outputs": [],
   "source": [
    "def compose_frame(img, regions, region_size):\n",
    "    frame = np.ones((frame_size[1], frame_size[0], 3), dtype='float32')\n",
    "    cells = get_cells(img, regions, region_size)\n",
    "    (dx, dy) = large_region_size\n",
    "    # Place golden\n",
    "    for y in xrange(4):\n",
    "        for x in xrange(4):\n",
    "            ox = small_pad + x*(2*dx + small_pad + large_pad)\n",
    "            oy = font_space + small_pad + y*(dy + large_pad)\n",
    "            cell = golden[y*4 + x]\n",
    "            frame[oy:oy+dy, ox:ox+dx] = cell\n",
    "    # Place reconstructions\n",
    "    for y in xrange(4):\n",
    "        for x in xrange(4):\n",
    "            ox = 2*small_pad + dx + x*(2*dx + small_pad + large_pad)\n",
    "            oy = font_space + small_pad + y*(dy + large_pad)\n",
    "            cell = cells[y*4 + x]\n",
    "            frame[oy:oy+dy, ox:ox+dx] = cell\n",
    "            \n",
    "    frame = (255*frame).astype('uint8')\n",
    "    frame = cv2.cvtColor(frame, cv2.COLOR_RGB2BGR)\n",
    "    \n",
    "    # Place text\n",
    "    black = (0, 0, 0)\n",
    "    for y in xrange(4):\n",
    "        for x in xrange(4):\n",
    "            oy = y*(dy + large_pad)\n",
    "            ox = x*(2*dx + small_pad + large_pad)\n",
    "            cv2.putText(frame, \"Original\", (ox + small_pad + 25,\n",
    "                                            oy + font_space),\n",
    "                        cv2.FONT_HERSHEY_SIMPLEX, 0.5, black)\n",
    "            cv2.putText(frame, \"Reconstruction\", (ox + 2* small_pad + dx - 5,\n",
    "                                                  oy + font_space),\n",
    "                        cv2.FONT_HERSHEY_SIMPLEX, 0.5, black)\n",
    "    \n",
    "    return frame\n",
    "    "
   ]
  },
  {
   "cell_type": "code",
   "execution_count": 11,
   "metadata": {
    "collapsed": false
   },
   "outputs": [
    {
     "data": {
      "text/plain": [
       "True"
      ]
     },
     "execution_count": 11,
     "metadata": {},
     "output_type": "execute_result"
    }
   ],
   "source": [
    "frame = compose_frame(plt.imread(\"images_in_order/img_999.png\"), large_regions, large_region_size)\n",
    "#frame = (255*frame).astype('uint8')\n",
    "cv2.imwrite(\"TEST.png\", frame)"
   ]
  },
  {
   "cell_type": "code",
   "execution_count": 12,
   "metadata": {
    "collapsed": false
   },
   "outputs": [],
   "source": [
    "def process_frame(filename):\n",
    "    img = plt.imread(filename)\n",
    "    if (img.shape[1], img.shape[0]) == small_size:\n",
    "        frame = compose_frame(img, small_regions, small_region_size)\n",
    "    elif (img.shape[1], img.shape[0]) == large_size:\n",
    "        frame = compose_frame(img, large_regions, large_region_size)\n",
    "    else:\n",
    "        assert(False)\n",
    "    return frame"
   ]
  },
  {
   "cell_type": "code",
   "execution_count": 13,
   "metadata": {
    "collapsed": true
   },
   "outputs": [],
   "source": [
    "def make_video(output_file, fourcc, frame_rate, stride, repeat_first_frame, repeat_last_frame,\n",
    "               skip_to_end_after=None, prefix=\"images_in_order/\"):\n",
    "    writer = cv2.VideoWriter(output_file, fourcc, frame_rate, frame_size)\n",
    "    i = 0\n",
    "    last = None\n",
    "    while True:\n",
    "        name = os.path.join(prefix, \"img_%d.png\" % i)\n",
    "        if not os.path.exists(name):\n",
    "            break\n",
    "        last = process_frame(name)\n",
    "        if skip_to_end_after is None or i <= skip_to_end_after:\n",
    "            writer.write(last)\n",
    "        if i == 0:\n",
    "            for _ in xrange(repeat_first_frame - 1):\n",
    "                writer.write(last)\n",
    "        i += stride\n",
    "    assert(last is not None)\n",
    "    for _ in xrange(repeat_last_frame - 1):\n",
    "        writer.write(last)\n",
    "    writer.release()"
   ]
  },
  {
   "cell_type": "code",
   "execution_count": 14,
   "metadata": {
    "collapsed": false
   },
   "outputs": [],
   "source": [
    "make_video(output_file, fourcc, frame_rate, stride, repeat_first_frame, repeat_last_frame, skip_to_end_after)"
   ]
  }
 ],
 "metadata": {
  "kernelspec": {
   "display_name": "Python 2",
   "language": "python",
   "name": "python2"
  },
  "language_info": {
   "codemirror_mode": {
    "name": "ipython",
    "version": 2
   },
   "file_extension": ".py",
   "mimetype": "text/x-python",
   "name": "python",
   "nbconvert_exporter": "python",
   "pygments_lexer": "ipython2",
   "version": "2.7.12"
  }
 },
 "nbformat": 4,
 "nbformat_minor": 1
}
